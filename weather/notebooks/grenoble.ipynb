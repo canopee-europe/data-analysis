{
 "cells": [
  {
   "cell_type": "code",
   "id": "initial_id",
   "metadata": {
    "collapsed": true,
    "ExecuteTime": {
     "end_time": "2025-02-04T13:53:21.135886Z",
     "start_time": "2025-02-04T13:53:20.534817Z"
    }
   },
   "source": [
    "import requests\n",
    "import pandas as pd"
   ],
   "outputs": [],
   "execution_count": 2
  },
  {
   "metadata": {
    "ExecuteTime": {
     "end_time": "2025-02-04T13:53:23.317453Z",
     "start_time": "2025-02-04T13:53:23.310524Z"
    }
   },
   "cell_type": "code",
   "source": [
    "url_grenoble = \"https://archive-api.open-meteo.com/v1/archive?latitude=45.1787&longitude=5.7148&start_date=1950-01-01&end_date=2025-02-01&hourly=temperature_2m&timezone=Europe%2FBerlin\"\n",
    "\n"
   ],
   "id": "b36babeaba9f8a4",
   "outputs": [],
   "execution_count": 3
  },
  {
   "metadata": {},
   "cell_type": "markdown",
   "source": "# GRENOBLE",
   "id": "e18dd1c5d205e692"
  },
  {
   "metadata": {
    "ExecuteTime": {
     "end_time": "2025-02-04T13:53:37.111013Z",
     "start_time": "2025-02-04T13:53:25.954716Z"
    }
   },
   "cell_type": "code",
   "source": [
    "# Get response\n",
    "response_gre = requests.get(url_grenoble)\n",
    "response_gre = response_gre.json()\n",
    "data_gre = response_gre['hourly']\n",
    "\n",
    "# Convert to df\n",
    "df_gre = pd.DataFrame(data_gre)\n",
    "\n",
    "# Rename column\n",
    "df_gre = df_gre.rename(columns={'temperature_2m':'temperature'})\n",
    "\n",
    "# Set date format\n",
    "df_gre['time'] = pd.to_datetime(df_gre['time'], utc=True)"
   ],
   "id": "299f641b74581276",
   "outputs": [],
   "execution_count": 4
  },
  {
   "metadata": {},
   "cell_type": "markdown",
   "source": "### Temperature by day (mean)",
   "id": "fe14eb60847478d"
  },
  {
   "metadata": {
    "ExecuteTime": {
     "end_time": "2025-02-04T13:53:41.947919Z",
     "start_time": "2025-02-04T13:53:41.175401Z"
    }
   },
   "cell_type": "code",
   "source": [
    "# GroupBy day\n",
    "df_gre_by_day = df_gre.groupby(df_gre['time'].dt.date)['temperature'].mean().reset_index()\n",
    "\n",
    "# Save to .csv\n",
    "df_gre_by_day.to_csv(\"data/weather/meteo_gre_by_day.csv\", index=False)\n",
    "df_gre_by_day"
   ],
   "id": "3bb3dcad89bffeaa",
   "outputs": [
    {
     "ename": "OSError",
     "evalue": "Cannot save file into a non-existent directory: 'data/weather'",
     "output_type": "error",
     "traceback": [
      "\u001B[0;31m---------------------------------------------------------------------------\u001B[0m",
      "\u001B[0;31mOSError\u001B[0m                                   Traceback (most recent call last)",
      "Cell \u001B[0;32mIn[5], line 5\u001B[0m\n\u001B[1;32m      2\u001B[0m df_gre_by_day \u001B[38;5;241m=\u001B[39m df_gre\u001B[38;5;241m.\u001B[39mgroupby(df_gre[\u001B[38;5;124m'\u001B[39m\u001B[38;5;124mtime\u001B[39m\u001B[38;5;124m'\u001B[39m]\u001B[38;5;241m.\u001B[39mdt\u001B[38;5;241m.\u001B[39mdate)[\u001B[38;5;124m'\u001B[39m\u001B[38;5;124mtemperature\u001B[39m\u001B[38;5;124m'\u001B[39m]\u001B[38;5;241m.\u001B[39mmean()\u001B[38;5;241m.\u001B[39mreset_index()\n\u001B[1;32m      4\u001B[0m \u001B[38;5;66;03m# Save to .csv\u001B[39;00m\n\u001B[0;32m----> 5\u001B[0m \u001B[43mdf_gre_by_day\u001B[49m\u001B[38;5;241;43m.\u001B[39;49m\u001B[43mto_csv\u001B[49m\u001B[43m(\u001B[49m\u001B[38;5;124;43m\"\u001B[39;49m\u001B[38;5;124;43mdata/weather/meteo_gre_by_day.csv\u001B[39;49m\u001B[38;5;124;43m\"\u001B[39;49m\u001B[43m,\u001B[49m\u001B[43m \u001B[49m\u001B[43mindex\u001B[49m\u001B[38;5;241;43m=\u001B[39;49m\u001B[38;5;28;43;01mFalse\u001B[39;49;00m\u001B[43m)\u001B[49m\n\u001B[1;32m      6\u001B[0m df_gre_by_day\n",
      "File \u001B[0;32m~/40-49 Informatique/40.03 Code/Applications/data_analysis/.venv/lib/python3.12/site-packages/pandas/util/_decorators.py:333\u001B[0m, in \u001B[0;36mdeprecate_nonkeyword_arguments.<locals>.decorate.<locals>.wrapper\u001B[0;34m(*args, **kwargs)\u001B[0m\n\u001B[1;32m    327\u001B[0m \u001B[38;5;28;01mif\u001B[39;00m \u001B[38;5;28mlen\u001B[39m(args) \u001B[38;5;241m>\u001B[39m num_allow_args:\n\u001B[1;32m    328\u001B[0m     warnings\u001B[38;5;241m.\u001B[39mwarn(\n\u001B[1;32m    329\u001B[0m         msg\u001B[38;5;241m.\u001B[39mformat(arguments\u001B[38;5;241m=\u001B[39m_format_argument_list(allow_args)),\n\u001B[1;32m    330\u001B[0m         \u001B[38;5;167;01mFutureWarning\u001B[39;00m,\n\u001B[1;32m    331\u001B[0m         stacklevel\u001B[38;5;241m=\u001B[39mfind_stack_level(),\n\u001B[1;32m    332\u001B[0m     )\n\u001B[0;32m--> 333\u001B[0m \u001B[38;5;28;01mreturn\u001B[39;00m \u001B[43mfunc\u001B[49m\u001B[43m(\u001B[49m\u001B[38;5;241;43m*\u001B[39;49m\u001B[43margs\u001B[49m\u001B[43m,\u001B[49m\u001B[43m \u001B[49m\u001B[38;5;241;43m*\u001B[39;49m\u001B[38;5;241;43m*\u001B[39;49m\u001B[43mkwargs\u001B[49m\u001B[43m)\u001B[49m\n",
      "File \u001B[0;32m~/40-49 Informatique/40.03 Code/Applications/data_analysis/.venv/lib/python3.12/site-packages/pandas/core/generic.py:3967\u001B[0m, in \u001B[0;36mNDFrame.to_csv\u001B[0;34m(self, path_or_buf, sep, na_rep, float_format, columns, header, index, index_label, mode, encoding, compression, quoting, quotechar, lineterminator, chunksize, date_format, doublequote, escapechar, decimal, errors, storage_options)\u001B[0m\n\u001B[1;32m   3956\u001B[0m df \u001B[38;5;241m=\u001B[39m \u001B[38;5;28mself\u001B[39m \u001B[38;5;28;01mif\u001B[39;00m \u001B[38;5;28misinstance\u001B[39m(\u001B[38;5;28mself\u001B[39m, ABCDataFrame) \u001B[38;5;28;01melse\u001B[39;00m \u001B[38;5;28mself\u001B[39m\u001B[38;5;241m.\u001B[39mto_frame()\n\u001B[1;32m   3958\u001B[0m formatter \u001B[38;5;241m=\u001B[39m DataFrameFormatter(\n\u001B[1;32m   3959\u001B[0m     frame\u001B[38;5;241m=\u001B[39mdf,\n\u001B[1;32m   3960\u001B[0m     header\u001B[38;5;241m=\u001B[39mheader,\n\u001B[0;32m   (...)\u001B[0m\n\u001B[1;32m   3964\u001B[0m     decimal\u001B[38;5;241m=\u001B[39mdecimal,\n\u001B[1;32m   3965\u001B[0m )\n\u001B[0;32m-> 3967\u001B[0m \u001B[38;5;28;01mreturn\u001B[39;00m \u001B[43mDataFrameRenderer\u001B[49m\u001B[43m(\u001B[49m\u001B[43mformatter\u001B[49m\u001B[43m)\u001B[49m\u001B[38;5;241;43m.\u001B[39;49m\u001B[43mto_csv\u001B[49m\u001B[43m(\u001B[49m\n\u001B[1;32m   3968\u001B[0m \u001B[43m    \u001B[49m\u001B[43mpath_or_buf\u001B[49m\u001B[43m,\u001B[49m\n\u001B[1;32m   3969\u001B[0m \u001B[43m    \u001B[49m\u001B[43mlineterminator\u001B[49m\u001B[38;5;241;43m=\u001B[39;49m\u001B[43mlineterminator\u001B[49m\u001B[43m,\u001B[49m\n\u001B[1;32m   3970\u001B[0m \u001B[43m    \u001B[49m\u001B[43msep\u001B[49m\u001B[38;5;241;43m=\u001B[39;49m\u001B[43msep\u001B[49m\u001B[43m,\u001B[49m\n\u001B[1;32m   3971\u001B[0m \u001B[43m    \u001B[49m\u001B[43mencoding\u001B[49m\u001B[38;5;241;43m=\u001B[39;49m\u001B[43mencoding\u001B[49m\u001B[43m,\u001B[49m\n\u001B[1;32m   3972\u001B[0m \u001B[43m    \u001B[49m\u001B[43merrors\u001B[49m\u001B[38;5;241;43m=\u001B[39;49m\u001B[43merrors\u001B[49m\u001B[43m,\u001B[49m\n\u001B[1;32m   3973\u001B[0m \u001B[43m    \u001B[49m\u001B[43mcompression\u001B[49m\u001B[38;5;241;43m=\u001B[39;49m\u001B[43mcompression\u001B[49m\u001B[43m,\u001B[49m\n\u001B[1;32m   3974\u001B[0m \u001B[43m    \u001B[49m\u001B[43mquoting\u001B[49m\u001B[38;5;241;43m=\u001B[39;49m\u001B[43mquoting\u001B[49m\u001B[43m,\u001B[49m\n\u001B[1;32m   3975\u001B[0m \u001B[43m    \u001B[49m\u001B[43mcolumns\u001B[49m\u001B[38;5;241;43m=\u001B[39;49m\u001B[43mcolumns\u001B[49m\u001B[43m,\u001B[49m\n\u001B[1;32m   3976\u001B[0m \u001B[43m    \u001B[49m\u001B[43mindex_label\u001B[49m\u001B[38;5;241;43m=\u001B[39;49m\u001B[43mindex_label\u001B[49m\u001B[43m,\u001B[49m\n\u001B[1;32m   3977\u001B[0m \u001B[43m    \u001B[49m\u001B[43mmode\u001B[49m\u001B[38;5;241;43m=\u001B[39;49m\u001B[43mmode\u001B[49m\u001B[43m,\u001B[49m\n\u001B[1;32m   3978\u001B[0m \u001B[43m    \u001B[49m\u001B[43mchunksize\u001B[49m\u001B[38;5;241;43m=\u001B[39;49m\u001B[43mchunksize\u001B[49m\u001B[43m,\u001B[49m\n\u001B[1;32m   3979\u001B[0m \u001B[43m    \u001B[49m\u001B[43mquotechar\u001B[49m\u001B[38;5;241;43m=\u001B[39;49m\u001B[43mquotechar\u001B[49m\u001B[43m,\u001B[49m\n\u001B[1;32m   3980\u001B[0m \u001B[43m    \u001B[49m\u001B[43mdate_format\u001B[49m\u001B[38;5;241;43m=\u001B[39;49m\u001B[43mdate_format\u001B[49m\u001B[43m,\u001B[49m\n\u001B[1;32m   3981\u001B[0m \u001B[43m    \u001B[49m\u001B[43mdoublequote\u001B[49m\u001B[38;5;241;43m=\u001B[39;49m\u001B[43mdoublequote\u001B[49m\u001B[43m,\u001B[49m\n\u001B[1;32m   3982\u001B[0m \u001B[43m    \u001B[49m\u001B[43mescapechar\u001B[49m\u001B[38;5;241;43m=\u001B[39;49m\u001B[43mescapechar\u001B[49m\u001B[43m,\u001B[49m\n\u001B[1;32m   3983\u001B[0m \u001B[43m    \u001B[49m\u001B[43mstorage_options\u001B[49m\u001B[38;5;241;43m=\u001B[39;49m\u001B[43mstorage_options\u001B[49m\u001B[43m,\u001B[49m\n\u001B[1;32m   3984\u001B[0m \u001B[43m\u001B[49m\u001B[43m)\u001B[49m\n",
      "File \u001B[0;32m~/40-49 Informatique/40.03 Code/Applications/data_analysis/.venv/lib/python3.12/site-packages/pandas/io/formats/format.py:1014\u001B[0m, in \u001B[0;36mDataFrameRenderer.to_csv\u001B[0;34m(self, path_or_buf, encoding, sep, columns, index_label, mode, compression, quoting, quotechar, lineterminator, chunksize, date_format, doublequote, escapechar, errors, storage_options)\u001B[0m\n\u001B[1;32m    993\u001B[0m     created_buffer \u001B[38;5;241m=\u001B[39m \u001B[38;5;28;01mFalse\u001B[39;00m\n\u001B[1;32m    995\u001B[0m csv_formatter \u001B[38;5;241m=\u001B[39m CSVFormatter(\n\u001B[1;32m    996\u001B[0m     path_or_buf\u001B[38;5;241m=\u001B[39mpath_or_buf,\n\u001B[1;32m    997\u001B[0m     lineterminator\u001B[38;5;241m=\u001B[39mlineterminator,\n\u001B[0;32m   (...)\u001B[0m\n\u001B[1;32m   1012\u001B[0m     formatter\u001B[38;5;241m=\u001B[39m\u001B[38;5;28mself\u001B[39m\u001B[38;5;241m.\u001B[39mfmt,\n\u001B[1;32m   1013\u001B[0m )\n\u001B[0;32m-> 1014\u001B[0m \u001B[43mcsv_formatter\u001B[49m\u001B[38;5;241;43m.\u001B[39;49m\u001B[43msave\u001B[49m\u001B[43m(\u001B[49m\u001B[43m)\u001B[49m\n\u001B[1;32m   1016\u001B[0m \u001B[38;5;28;01mif\u001B[39;00m created_buffer:\n\u001B[1;32m   1017\u001B[0m     \u001B[38;5;28;01massert\u001B[39;00m \u001B[38;5;28misinstance\u001B[39m(path_or_buf, StringIO)\n",
      "File \u001B[0;32m~/40-49 Informatique/40.03 Code/Applications/data_analysis/.venv/lib/python3.12/site-packages/pandas/io/formats/csvs.py:251\u001B[0m, in \u001B[0;36mCSVFormatter.save\u001B[0;34m(self)\u001B[0m\n\u001B[1;32m    247\u001B[0m \u001B[38;5;250m\u001B[39m\u001B[38;5;124;03m\"\"\"\u001B[39;00m\n\u001B[1;32m    248\u001B[0m \u001B[38;5;124;03mCreate the writer & save.\u001B[39;00m\n\u001B[1;32m    249\u001B[0m \u001B[38;5;124;03m\"\"\"\u001B[39;00m\n\u001B[1;32m    250\u001B[0m \u001B[38;5;66;03m# apply compression and byte/text conversion\u001B[39;00m\n\u001B[0;32m--> 251\u001B[0m \u001B[38;5;28;01mwith\u001B[39;00m \u001B[43mget_handle\u001B[49m\u001B[43m(\u001B[49m\n\u001B[1;32m    252\u001B[0m \u001B[43m    \u001B[49m\u001B[38;5;28;43mself\u001B[39;49m\u001B[38;5;241;43m.\u001B[39;49m\u001B[43mfilepath_or_buffer\u001B[49m\u001B[43m,\u001B[49m\n\u001B[1;32m    253\u001B[0m \u001B[43m    \u001B[49m\u001B[38;5;28;43mself\u001B[39;49m\u001B[38;5;241;43m.\u001B[39;49m\u001B[43mmode\u001B[49m\u001B[43m,\u001B[49m\n\u001B[1;32m    254\u001B[0m \u001B[43m    \u001B[49m\u001B[43mencoding\u001B[49m\u001B[38;5;241;43m=\u001B[39;49m\u001B[38;5;28;43mself\u001B[39;49m\u001B[38;5;241;43m.\u001B[39;49m\u001B[43mencoding\u001B[49m\u001B[43m,\u001B[49m\n\u001B[1;32m    255\u001B[0m \u001B[43m    \u001B[49m\u001B[43merrors\u001B[49m\u001B[38;5;241;43m=\u001B[39;49m\u001B[38;5;28;43mself\u001B[39;49m\u001B[38;5;241;43m.\u001B[39;49m\u001B[43merrors\u001B[49m\u001B[43m,\u001B[49m\n\u001B[1;32m    256\u001B[0m \u001B[43m    \u001B[49m\u001B[43mcompression\u001B[49m\u001B[38;5;241;43m=\u001B[39;49m\u001B[38;5;28;43mself\u001B[39;49m\u001B[38;5;241;43m.\u001B[39;49m\u001B[43mcompression\u001B[49m\u001B[43m,\u001B[49m\n\u001B[1;32m    257\u001B[0m \u001B[43m    \u001B[49m\u001B[43mstorage_options\u001B[49m\u001B[38;5;241;43m=\u001B[39;49m\u001B[38;5;28;43mself\u001B[39;49m\u001B[38;5;241;43m.\u001B[39;49m\u001B[43mstorage_options\u001B[49m\u001B[43m,\u001B[49m\n\u001B[1;32m    258\u001B[0m \u001B[43m\u001B[49m\u001B[43m)\u001B[49m \u001B[38;5;28;01mas\u001B[39;00m handles:\n\u001B[1;32m    259\u001B[0m     \u001B[38;5;66;03m# Note: self.encoding is irrelevant here\u001B[39;00m\n\u001B[1;32m    260\u001B[0m     \u001B[38;5;28mself\u001B[39m\u001B[38;5;241m.\u001B[39mwriter \u001B[38;5;241m=\u001B[39m csvlib\u001B[38;5;241m.\u001B[39mwriter(\n\u001B[1;32m    261\u001B[0m         handles\u001B[38;5;241m.\u001B[39mhandle,\n\u001B[1;32m    262\u001B[0m         lineterminator\u001B[38;5;241m=\u001B[39m\u001B[38;5;28mself\u001B[39m\u001B[38;5;241m.\u001B[39mlineterminator,\n\u001B[0;32m   (...)\u001B[0m\n\u001B[1;32m    267\u001B[0m         quotechar\u001B[38;5;241m=\u001B[39m\u001B[38;5;28mself\u001B[39m\u001B[38;5;241m.\u001B[39mquotechar,\n\u001B[1;32m    268\u001B[0m     )\n\u001B[1;32m    270\u001B[0m     \u001B[38;5;28mself\u001B[39m\u001B[38;5;241m.\u001B[39m_save()\n",
      "File \u001B[0;32m~/40-49 Informatique/40.03 Code/Applications/data_analysis/.venv/lib/python3.12/site-packages/pandas/io/common.py:749\u001B[0m, in \u001B[0;36mget_handle\u001B[0;34m(path_or_buf, mode, encoding, compression, memory_map, is_text, errors, storage_options)\u001B[0m\n\u001B[1;32m    747\u001B[0m \u001B[38;5;66;03m# Only for write methods\u001B[39;00m\n\u001B[1;32m    748\u001B[0m \u001B[38;5;28;01mif\u001B[39;00m \u001B[38;5;124m\"\u001B[39m\u001B[38;5;124mr\u001B[39m\u001B[38;5;124m\"\u001B[39m \u001B[38;5;129;01mnot\u001B[39;00m \u001B[38;5;129;01min\u001B[39;00m mode \u001B[38;5;129;01mand\u001B[39;00m is_path:\n\u001B[0;32m--> 749\u001B[0m     \u001B[43mcheck_parent_directory\u001B[49m\u001B[43m(\u001B[49m\u001B[38;5;28;43mstr\u001B[39;49m\u001B[43m(\u001B[49m\u001B[43mhandle\u001B[49m\u001B[43m)\u001B[49m\u001B[43m)\u001B[49m\n\u001B[1;32m    751\u001B[0m \u001B[38;5;28;01mif\u001B[39;00m compression:\n\u001B[1;32m    752\u001B[0m     \u001B[38;5;28;01mif\u001B[39;00m compression \u001B[38;5;241m!=\u001B[39m \u001B[38;5;124m\"\u001B[39m\u001B[38;5;124mzstd\u001B[39m\u001B[38;5;124m\"\u001B[39m:\n\u001B[1;32m    753\u001B[0m         \u001B[38;5;66;03m# compression libraries do not like an explicit text-mode\u001B[39;00m\n",
      "File \u001B[0;32m~/40-49 Informatique/40.03 Code/Applications/data_analysis/.venv/lib/python3.12/site-packages/pandas/io/common.py:616\u001B[0m, in \u001B[0;36mcheck_parent_directory\u001B[0;34m(path)\u001B[0m\n\u001B[1;32m    614\u001B[0m parent \u001B[38;5;241m=\u001B[39m Path(path)\u001B[38;5;241m.\u001B[39mparent\n\u001B[1;32m    615\u001B[0m \u001B[38;5;28;01mif\u001B[39;00m \u001B[38;5;129;01mnot\u001B[39;00m parent\u001B[38;5;241m.\u001B[39mis_dir():\n\u001B[0;32m--> 616\u001B[0m     \u001B[38;5;28;01mraise\u001B[39;00m \u001B[38;5;167;01mOSError\u001B[39;00m(\u001B[38;5;124mrf\u001B[39m\u001B[38;5;124m\"\u001B[39m\u001B[38;5;124mCannot save file into a non-existent directory: \u001B[39m\u001B[38;5;124m'\u001B[39m\u001B[38;5;132;01m{\u001B[39;00mparent\u001B[38;5;132;01m}\u001B[39;00m\u001B[38;5;124m'\u001B[39m\u001B[38;5;124m\"\u001B[39m)\n",
      "\u001B[0;31mOSError\u001B[0m: Cannot save file into a non-existent directory: 'data/weather'"
     ]
    }
   ],
   "execution_count": 5
  },
  {
   "metadata": {},
   "cell_type": "markdown",
   "source": "### Filter temperatures",
   "id": "fc90ea30c87164f4"
  },
  {
   "metadata": {
    "ExecuteTime": {
     "end_time": "2025-02-03T16:32:11.380973Z",
     "start_time": "2025-02-03T16:32:11.299928Z"
    }
   },
   "cell_type": "code",
   "source": [
    "# Filter temperatures < 0\n",
    "df_gre['year'] = df_gre['time'].dt.year\n",
    "\n",
    "# df_gre\n",
    "df_gre_0 = df_gre[df_gre['temperature'] < 0]\n",
    "# df_gre_0\n",
    "\n",
    "occurrences_gre_0_per_year = df_gre_0.groupby('year').size().reset_index(name='nb_occurrences_0').set_index('year').fillna(0)\n"
   ],
   "id": "373da35b88a66e75",
   "outputs": [],
   "execution_count": 77
  },
  {
   "metadata": {
    "ExecuteTime": {
     "end_time": "2025-02-03T16:32:12.823274Z",
     "start_time": "2025-02-03T16:32:12.727912Z"
    }
   },
   "cell_type": "code",
   "source": [
    "# Filter temperatures > 30\n",
    "df_gre['year'] = df_gre['time'].dt.year\n",
    "df_gre_30 = df_gre[df_gre['temperature'] > 30]\n",
    "\n",
    "occurrences_gre_30_per_year = df_gre_30.groupby('year').size().reset_index(name='nb_occurrences_30').set_index('year')"
   ],
   "id": "f77511e8a7cfb1b1",
   "outputs": [],
   "execution_count": 78
  },
  {
   "metadata": {
    "ExecuteTime": {
     "end_time": "2025-02-03T16:32:15.931558Z",
     "start_time": "2025-02-03T16:32:15.903746Z"
    }
   },
   "cell_type": "code",
   "source": [
    "# Merge dfs\n",
    "final_df_occurrences = occurrences_gre_0_per_year.merge(occurrences_gre_30_per_year, on='year', how='outer')\n",
    "\n",
    "final_df_occurrences['nb_occurrences_30'] = final_df_occurrences['nb_occurrences_30'].fillna(0)\n",
    "final_df_occurrences['nb_occurrences_30'] = final_df_occurrences['nb_occurrences_30'].astype(int)\n",
    "\n",
    "final_df_occurrences.to_csv(\"data/weather/meteo_gre_occurrences.csv\")\n"
   ],
   "id": "e3bbf80e042941b6",
   "outputs": [],
   "execution_count": 79
  },
  {
   "metadata": {},
   "cell_type": "markdown",
   "source": "### Temperature by year (mean)",
   "id": "e795d3248163b5e4"
  },
  {
   "metadata": {
    "ExecuteTime": {
     "end_time": "2025-02-04T10:19:04.482045Z",
     "start_time": "2025-02-04T10:19:04.439891Z"
    }
   },
   "cell_type": "code",
   "source": [
    "df_gre_by_year = df_gre.groupby(df_gre['time'].dt.year)['temperature'].mean().reset_index()\n",
    "df_gre_by_year = df_gre_by_year.iloc[:-1]\n",
    "df_gre_by_year['temperature'] = round(df_gre_by_year['temperature'], 2)\n",
    "df_gre_by_year"
   ],
   "id": "9d440f4846d54788",
   "outputs": [
    {
     "data": {
      "text/plain": [
       "    time  temperature\n",
       "0   1950        11.64\n",
       "1   1951        11.36\n",
       "2   1952        11.36\n",
       "3   1953        11.39\n",
       "4   1954        10.58\n",
       "..   ...          ...\n",
       "70  2020        14.19\n",
       "71  2021        12.74\n",
       "72  2022        14.83\n",
       "73  2023        14.15\n",
       "74  2024        13.68\n",
       "\n",
       "[75 rows x 2 columns]"
      ],
      "text/html": [
       "<div>\n",
       "<style scoped>\n",
       "    .dataframe tbody tr th:only-of-type {\n",
       "        vertical-align: middle;\n",
       "    }\n",
       "\n",
       "    .dataframe tbody tr th {\n",
       "        vertical-align: top;\n",
       "    }\n",
       "\n",
       "    .dataframe thead th {\n",
       "        text-align: right;\n",
       "    }\n",
       "</style>\n",
       "<table border=\"1\" class=\"dataframe\">\n",
       "  <thead>\n",
       "    <tr style=\"text-align: right;\">\n",
       "      <th></th>\n",
       "      <th>time</th>\n",
       "      <th>temperature</th>\n",
       "    </tr>\n",
       "  </thead>\n",
       "  <tbody>\n",
       "    <tr>\n",
       "      <th>0</th>\n",
       "      <td>1950</td>\n",
       "      <td>11.64</td>\n",
       "    </tr>\n",
       "    <tr>\n",
       "      <th>1</th>\n",
       "      <td>1951</td>\n",
       "      <td>11.36</td>\n",
       "    </tr>\n",
       "    <tr>\n",
       "      <th>2</th>\n",
       "      <td>1952</td>\n",
       "      <td>11.36</td>\n",
       "    </tr>\n",
       "    <tr>\n",
       "      <th>3</th>\n",
       "      <td>1953</td>\n",
       "      <td>11.39</td>\n",
       "    </tr>\n",
       "    <tr>\n",
       "      <th>4</th>\n",
       "      <td>1954</td>\n",
       "      <td>10.58</td>\n",
       "    </tr>\n",
       "    <tr>\n",
       "      <th>...</th>\n",
       "      <td>...</td>\n",
       "      <td>...</td>\n",
       "    </tr>\n",
       "    <tr>\n",
       "      <th>70</th>\n",
       "      <td>2020</td>\n",
       "      <td>14.19</td>\n",
       "    </tr>\n",
       "    <tr>\n",
       "      <th>71</th>\n",
       "      <td>2021</td>\n",
       "      <td>12.74</td>\n",
       "    </tr>\n",
       "    <tr>\n",
       "      <th>72</th>\n",
       "      <td>2022</td>\n",
       "      <td>14.83</td>\n",
       "    </tr>\n",
       "    <tr>\n",
       "      <th>73</th>\n",
       "      <td>2023</td>\n",
       "      <td>14.15</td>\n",
       "    </tr>\n",
       "    <tr>\n",
       "      <th>74</th>\n",
       "      <td>2024</td>\n",
       "      <td>13.68</td>\n",
       "    </tr>\n",
       "  </tbody>\n",
       "</table>\n",
       "<p>75 rows × 2 columns</p>\n",
       "</div>"
      ]
     },
     "execution_count": 125,
     "metadata": {},
     "output_type": "execute_result"
    }
   ],
   "execution_count": 125
  },
  {
   "metadata": {
    "ExecuteTime": {
     "end_time": "2025-02-04T10:19:22.846591Z",
     "start_time": "2025-02-04T10:19:22.818398Z"
    }
   },
   "cell_type": "code",
   "source": [
    "# Base 100 en 1950\n",
    "base_1950 = df_gre_by_year[df_gre_by_year['time'] == 1950]['temperature'].values[0]\n",
    "\n",
    "# Calculer l'indice base 100\n",
    "df_gre_by_year['indice_base_100'] = (df_gre_by_year['temperature'] / base_1950) * 100\n",
    "df_gre_by_year['indice_base_100'] = round(df_gre_by_year['indice_base_100'], 2)\n",
    "df_gre_by_year.to_csv(\"data/weather/meteo_by_year_base100_1950.csv\", index=False)"
   ],
   "id": "759fcc4af8b83a44",
   "outputs": [],
   "execution_count": 127
  },
  {
   "metadata": {},
   "cell_type": "markdown",
   "source": "### Temperature by decade",
   "id": "51848572a03d97d7"
  },
  {
   "metadata": {
    "ExecuteTime": {
     "end_time": "2025-02-04T10:27:08.616387Z",
     "start_time": "2025-02-04T10:27:08.607947Z"
    }
   },
   "cell_type": "code",
   "source": [
    "# Copy df\n",
    "df_gre_by_year_decade = df_gre_by_year.copy()\n",
    "\n",
    "# Ajouter une colonne \"décennie\" en arrondissant l'année à la dizaine inférieure\n",
    "df_gre_by_year_decade['decade'] = (df_gre_by_year_decade['time'] // 10) * 10\n",
    "\n",
    "# GroupBy decade\n",
    "df_gre_by_year_decade = df_gre_by_year_decade.groupby('decade')['temperature'].mean().reset_index()\n",
    "\n",
    "base_decade_1950 = df_gre_by_year_decade[df_gre_by_year_decade['decade'] == 1950]['temperature'].values[0]\n",
    "df_gre_by_year_decade['indice_base_100'] = round((df_gre_by_year_decade['temperature'] / base_decade_1950) * 100, 2)\n",
    "\n",
    "df_gre_by_year_decade.to_csv(\"data/weather/meteo_by_year_base100_decade.csv\", index=False)"
   ],
   "id": "786ba71b0a9804a",
   "outputs": [],
   "execution_count": 137
  },
  {
   "metadata": {},
   "cell_type": "markdown",
   "source": "### Temperature rolling average 5 years",
   "id": "4ffc0c13c919888"
  },
  {
   "metadata": {
    "ExecuteTime": {
     "end_time": "2025-02-04T10:56:06.219420Z",
     "start_time": "2025-02-04T10:56:06.203961Z"
    }
   },
   "cell_type": "code",
   "source": [
    "df_gre_rolling = df_gre_by_year.copy()\n",
    "df_gre_rolling['rolling_avg_5y'] = round(df_gre_rolling['temperature'].rolling(window=5).mean(), 2).fillna(0)\n",
    "\n",
    "df_gre_rolling.to_csv(\"data/weather/meteo_by_year_rolling.csv\", index=False)\n",
    "\n",
    "df_gre_rolling"
   ],
   "id": "7a51f55c42b3a21b",
   "outputs": [
    {
     "data": {
      "text/plain": [
       "    time  temperature  indice_base_100  decade  rolling_avg_5y\n",
       "0   1950        11.64           100.00    1950            0.00\n",
       "1   1951        11.36            97.59    1950            0.00\n",
       "2   1952        11.36            97.59    1950            0.00\n",
       "3   1953        11.39            97.85    1950            0.00\n",
       "4   1954        10.58            90.89    1950           11.27\n",
       "..   ...          ...              ...     ...             ...\n",
       "70  2020        14.19           121.91    2020           13.53\n",
       "71  2021        12.74           109.45    2020           13.54\n",
       "72  2022        14.83           127.41    2020           13.88\n",
       "73  2023        14.15           121.56    2020           13.90\n",
       "74  2024        13.68           117.53    2020           13.92\n",
       "\n",
       "[75 rows x 5 columns]"
      ],
      "text/html": [
       "<div>\n",
       "<style scoped>\n",
       "    .dataframe tbody tr th:only-of-type {\n",
       "        vertical-align: middle;\n",
       "    }\n",
       "\n",
       "    .dataframe tbody tr th {\n",
       "        vertical-align: top;\n",
       "    }\n",
       "\n",
       "    .dataframe thead th {\n",
       "        text-align: right;\n",
       "    }\n",
       "</style>\n",
       "<table border=\"1\" class=\"dataframe\">\n",
       "  <thead>\n",
       "    <tr style=\"text-align: right;\">\n",
       "      <th></th>\n",
       "      <th>time</th>\n",
       "      <th>temperature</th>\n",
       "      <th>indice_base_100</th>\n",
       "      <th>decade</th>\n",
       "      <th>rolling_avg_5y</th>\n",
       "    </tr>\n",
       "  </thead>\n",
       "  <tbody>\n",
       "    <tr>\n",
       "      <th>0</th>\n",
       "      <td>1950</td>\n",
       "      <td>11.64</td>\n",
       "      <td>100.00</td>\n",
       "      <td>1950</td>\n",
       "      <td>0.00</td>\n",
       "    </tr>\n",
       "    <tr>\n",
       "      <th>1</th>\n",
       "      <td>1951</td>\n",
       "      <td>11.36</td>\n",
       "      <td>97.59</td>\n",
       "      <td>1950</td>\n",
       "      <td>0.00</td>\n",
       "    </tr>\n",
       "    <tr>\n",
       "      <th>2</th>\n",
       "      <td>1952</td>\n",
       "      <td>11.36</td>\n",
       "      <td>97.59</td>\n",
       "      <td>1950</td>\n",
       "      <td>0.00</td>\n",
       "    </tr>\n",
       "    <tr>\n",
       "      <th>3</th>\n",
       "      <td>1953</td>\n",
       "      <td>11.39</td>\n",
       "      <td>97.85</td>\n",
       "      <td>1950</td>\n",
       "      <td>0.00</td>\n",
       "    </tr>\n",
       "    <tr>\n",
       "      <th>4</th>\n",
       "      <td>1954</td>\n",
       "      <td>10.58</td>\n",
       "      <td>90.89</td>\n",
       "      <td>1950</td>\n",
       "      <td>11.27</td>\n",
       "    </tr>\n",
       "    <tr>\n",
       "      <th>...</th>\n",
       "      <td>...</td>\n",
       "      <td>...</td>\n",
       "      <td>...</td>\n",
       "      <td>...</td>\n",
       "      <td>...</td>\n",
       "    </tr>\n",
       "    <tr>\n",
       "      <th>70</th>\n",
       "      <td>2020</td>\n",
       "      <td>14.19</td>\n",
       "      <td>121.91</td>\n",
       "      <td>2020</td>\n",
       "      <td>13.53</td>\n",
       "    </tr>\n",
       "    <tr>\n",
       "      <th>71</th>\n",
       "      <td>2021</td>\n",
       "      <td>12.74</td>\n",
       "      <td>109.45</td>\n",
       "      <td>2020</td>\n",
       "      <td>13.54</td>\n",
       "    </tr>\n",
       "    <tr>\n",
       "      <th>72</th>\n",
       "      <td>2022</td>\n",
       "      <td>14.83</td>\n",
       "      <td>127.41</td>\n",
       "      <td>2020</td>\n",
       "      <td>13.88</td>\n",
       "    </tr>\n",
       "    <tr>\n",
       "      <th>73</th>\n",
       "      <td>2023</td>\n",
       "      <td>14.15</td>\n",
       "      <td>121.56</td>\n",
       "      <td>2020</td>\n",
       "      <td>13.90</td>\n",
       "    </tr>\n",
       "    <tr>\n",
       "      <th>74</th>\n",
       "      <td>2024</td>\n",
       "      <td>13.68</td>\n",
       "      <td>117.53</td>\n",
       "      <td>2020</td>\n",
       "      <td>13.92</td>\n",
       "    </tr>\n",
       "  </tbody>\n",
       "</table>\n",
       "<p>75 rows × 5 columns</p>\n",
       "</div>"
      ]
     },
     "execution_count": 151,
     "metadata": {},
     "output_type": "execute_result"
    }
   ],
   "execution_count": 151
  },
  {
   "metadata": {},
   "cell_type": "markdown",
   "source": "### Top 5 increase - decrease",
   "id": "63b6d14f39251acd"
  },
  {
   "metadata": {
    "ExecuteTime": {
     "end_time": "2025-02-04T11:23:16.851621Z",
     "start_time": "2025-02-04T11:23:16.838065Z"
    }
   },
   "cell_type": "code",
   "source": [
    "df_gre_max_increase_decrease = df_gre_rolling.copy()\n",
    "df_gre_max_increase_decrease = df_gre_max_increase_decrease.drop(columns=['rolling_avg_5y', 'indice_base_100'])\n",
    "df_gre_max_increase_decrease['temperature_change'] = df_gre_max_increase_decrease['temperature'].diff()\n",
    "# df_gre_max_increase_decrease\n",
    "\n",
    "\n",
    "# Top 5 increase temperature from one year to another\n",
    "top5_increase = df_gre_max_increase_decrease.nlargest(5, 'temperature_change')[['time', 'temperature_change']]\n",
    "top5_increase = top5_increase.rename(columns={'temperature_change':'increase', 'time': 'time_increase'})\n",
    "top5_increase"
   ],
   "id": "8570fee595925720",
   "outputs": [
    {
     "data": {
      "text/plain": [
       "    time_increase  increase\n",
       "72           2022      2.09\n",
       "61           2011      2.06\n",
       "64           2014      1.46\n",
       "14           1964      1.33\n",
       "7            1957      1.32"
      ],
      "text/html": [
       "<div>\n",
       "<style scoped>\n",
       "    .dataframe tbody tr th:only-of-type {\n",
       "        vertical-align: middle;\n",
       "    }\n",
       "\n",
       "    .dataframe tbody tr th {\n",
       "        vertical-align: top;\n",
       "    }\n",
       "\n",
       "    .dataframe thead th {\n",
       "        text-align: right;\n",
       "    }\n",
       "</style>\n",
       "<table border=\"1\" class=\"dataframe\">\n",
       "  <thead>\n",
       "    <tr style=\"text-align: right;\">\n",
       "      <th></th>\n",
       "      <th>time_increase</th>\n",
       "      <th>increase</th>\n",
       "    </tr>\n",
       "  </thead>\n",
       "  <tbody>\n",
       "    <tr>\n",
       "      <th>72</th>\n",
       "      <td>2022</td>\n",
       "      <td>2.09</td>\n",
       "    </tr>\n",
       "    <tr>\n",
       "      <th>61</th>\n",
       "      <td>2011</td>\n",
       "      <td>2.06</td>\n",
       "    </tr>\n",
       "    <tr>\n",
       "      <th>64</th>\n",
       "      <td>2014</td>\n",
       "      <td>1.46</td>\n",
       "    </tr>\n",
       "    <tr>\n",
       "      <th>14</th>\n",
       "      <td>1964</td>\n",
       "      <td>1.33</td>\n",
       "    </tr>\n",
       "    <tr>\n",
       "      <th>7</th>\n",
       "      <td>1957</td>\n",
       "      <td>1.32</td>\n",
       "    </tr>\n",
       "  </tbody>\n",
       "</table>\n",
       "</div>"
      ]
     },
     "execution_count": 168,
     "metadata": {},
     "output_type": "execute_result"
    }
   ],
   "execution_count": 168
  },
  {
   "metadata": {
    "ExecuteTime": {
     "end_time": "2025-02-04T11:23:22.615395Z",
     "start_time": "2025-02-04T11:23:22.602095Z"
    }
   },
   "cell_type": "code",
   "source": [
    "# Top 5 decrease temperature from one year to another\n",
    "top5_decrease = df_gre_max_increase_decrease.nsmallest(5, 'temperature_change')[['time', 'temperature_change']]\n",
    "top5_decrease = top5_decrease.rename(columns={'temperature_change':'decrease', 'time': 'time_decrease'})\n",
    "top5_decrease\n"
   ],
   "id": "c2141cfe4f936514",
   "outputs": [
    {
     "data": {
      "text/plain": [
       "    time_decrease  decrease\n",
       "12           1962     -1.62\n",
       "60           2010     -1.53\n",
       "6            1956     -1.47\n",
       "71           2021     -1.45\n",
       "54           2004     -1.19"
      ],
      "text/html": [
       "<div>\n",
       "<style scoped>\n",
       "    .dataframe tbody tr th:only-of-type {\n",
       "        vertical-align: middle;\n",
       "    }\n",
       "\n",
       "    .dataframe tbody tr th {\n",
       "        vertical-align: top;\n",
       "    }\n",
       "\n",
       "    .dataframe thead th {\n",
       "        text-align: right;\n",
       "    }\n",
       "</style>\n",
       "<table border=\"1\" class=\"dataframe\">\n",
       "  <thead>\n",
       "    <tr style=\"text-align: right;\">\n",
       "      <th></th>\n",
       "      <th>time_decrease</th>\n",
       "      <th>decrease</th>\n",
       "    </tr>\n",
       "  </thead>\n",
       "  <tbody>\n",
       "    <tr>\n",
       "      <th>12</th>\n",
       "      <td>1962</td>\n",
       "      <td>-1.62</td>\n",
       "    </tr>\n",
       "    <tr>\n",
       "      <th>60</th>\n",
       "      <td>2010</td>\n",
       "      <td>-1.53</td>\n",
       "    </tr>\n",
       "    <tr>\n",
       "      <th>6</th>\n",
       "      <td>1956</td>\n",
       "      <td>-1.47</td>\n",
       "    </tr>\n",
       "    <tr>\n",
       "      <th>71</th>\n",
       "      <td>2021</td>\n",
       "      <td>-1.45</td>\n",
       "    </tr>\n",
       "    <tr>\n",
       "      <th>54</th>\n",
       "      <td>2004</td>\n",
       "      <td>-1.19</td>\n",
       "    </tr>\n",
       "  </tbody>\n",
       "</table>\n",
       "</div>"
      ]
     },
     "execution_count": 169,
     "metadata": {},
     "output_type": "execute_result"
    }
   ],
   "execution_count": 169
  },
  {
   "metadata": {},
   "cell_type": "markdown",
   "source": "### Temperatures range by day",
   "id": "9aaab02e32e226c0"
  },
  {
   "metadata": {
    "ExecuteTime": {
     "end_time": "2025-02-04T13:58:28.561076Z",
     "start_time": "2025-02-04T13:58:28.304733Z"
    }
   },
   "cell_type": "code",
   "source": [
    "df_amplitude = df_gre.copy()\n",
    "df_amplitude['time'] = df_amplitude['time'].dt.date\n",
    "daily_temp = df_amplitude.groupby('time')['temperature'].agg(Tmax='max', Tmin='min')\n",
    "daily_temp['amplitude'] = daily_temp['Tmax'] - daily_temp['Tmin']\n",
    "daily_temp"
   ],
   "id": "4db70f33caa0b59f",
   "outputs": [
    {
     "data": {
      "text/plain": [
       "            Tmax  Tmin  amplitude\n",
       "time                             \n",
       "1950-01-01   4.8  -0.1        4.9\n",
       "1950-01-02   5.5  -1.9        7.4\n",
       "1950-01-03   5.5   2.0        3.5\n",
       "1950-01-04   6.5   4.9        1.6\n",
       "1950-01-05   7.3   4.5        2.8\n",
       "...          ...   ...        ...\n",
       "2025-01-28  11.2   5.2        6.0\n",
       "2025-01-29  12.6   1.2       11.4\n",
       "2025-01-30   9.7   3.1        6.6\n",
       "2025-01-31   6.3   3.7        2.6\n",
       "2025-02-01   6.1   2.4        3.7\n",
       "\n",
       "[27426 rows x 3 columns]"
      ],
      "text/html": [
       "<div>\n",
       "<style scoped>\n",
       "    .dataframe tbody tr th:only-of-type {\n",
       "        vertical-align: middle;\n",
       "    }\n",
       "\n",
       "    .dataframe tbody tr th {\n",
       "        vertical-align: top;\n",
       "    }\n",
       "\n",
       "    .dataframe thead th {\n",
       "        text-align: right;\n",
       "    }\n",
       "</style>\n",
       "<table border=\"1\" class=\"dataframe\">\n",
       "  <thead>\n",
       "    <tr style=\"text-align: right;\">\n",
       "      <th></th>\n",
       "      <th>Tmax</th>\n",
       "      <th>Tmin</th>\n",
       "      <th>amplitude</th>\n",
       "    </tr>\n",
       "    <tr>\n",
       "      <th>time</th>\n",
       "      <th></th>\n",
       "      <th></th>\n",
       "      <th></th>\n",
       "    </tr>\n",
       "  </thead>\n",
       "  <tbody>\n",
       "    <tr>\n",
       "      <th>1950-01-01</th>\n",
       "      <td>4.8</td>\n",
       "      <td>-0.1</td>\n",
       "      <td>4.9</td>\n",
       "    </tr>\n",
       "    <tr>\n",
       "      <th>1950-01-02</th>\n",
       "      <td>5.5</td>\n",
       "      <td>-1.9</td>\n",
       "      <td>7.4</td>\n",
       "    </tr>\n",
       "    <tr>\n",
       "      <th>1950-01-03</th>\n",
       "      <td>5.5</td>\n",
       "      <td>2.0</td>\n",
       "      <td>3.5</td>\n",
       "    </tr>\n",
       "    <tr>\n",
       "      <th>1950-01-04</th>\n",
       "      <td>6.5</td>\n",
       "      <td>4.9</td>\n",
       "      <td>1.6</td>\n",
       "    </tr>\n",
       "    <tr>\n",
       "      <th>1950-01-05</th>\n",
       "      <td>7.3</td>\n",
       "      <td>4.5</td>\n",
       "      <td>2.8</td>\n",
       "    </tr>\n",
       "    <tr>\n",
       "      <th>...</th>\n",
       "      <td>...</td>\n",
       "      <td>...</td>\n",
       "      <td>...</td>\n",
       "    </tr>\n",
       "    <tr>\n",
       "      <th>2025-01-28</th>\n",
       "      <td>11.2</td>\n",
       "      <td>5.2</td>\n",
       "      <td>6.0</td>\n",
       "    </tr>\n",
       "    <tr>\n",
       "      <th>2025-01-29</th>\n",
       "      <td>12.6</td>\n",
       "      <td>1.2</td>\n",
       "      <td>11.4</td>\n",
       "    </tr>\n",
       "    <tr>\n",
       "      <th>2025-01-30</th>\n",
       "      <td>9.7</td>\n",
       "      <td>3.1</td>\n",
       "      <td>6.6</td>\n",
       "    </tr>\n",
       "    <tr>\n",
       "      <th>2025-01-31</th>\n",
       "      <td>6.3</td>\n",
       "      <td>3.7</td>\n",
       "      <td>2.6</td>\n",
       "    </tr>\n",
       "    <tr>\n",
       "      <th>2025-02-01</th>\n",
       "      <td>6.1</td>\n",
       "      <td>2.4</td>\n",
       "      <td>3.7</td>\n",
       "    </tr>\n",
       "  </tbody>\n",
       "</table>\n",
       "<p>27426 rows × 3 columns</p>\n",
       "</div>"
      ]
     },
     "execution_count": 17,
     "metadata": {},
     "output_type": "execute_result"
    }
   ],
   "execution_count": 17
  },
  {
   "metadata": {},
   "cell_type": "markdown",
   "source": "### Temperature range by month",
   "id": "b703a0a78bbc5279"
  },
  {
   "metadata": {
    "ExecuteTime": {
     "end_time": "2025-02-04T14:10:22.012258Z",
     "start_time": "2025-02-04T14:10:21.941133Z"
    }
   },
   "cell_type": "code",
   "source": [
    "df_amplitude_month = df_gre.copy()\n",
    "df_amplitude_month['year_month'] = df_amplitude_month['time'].dt.to_period(freq='M')\n",
    "df_amplitude_month = df_amplitude_month.groupby('year_month')['temperature'].agg(Tmax='max', Tmin='min')\n",
    "df_amplitude_month['amplitude'] = df_amplitude_month['Tmax'] - df_amplitude_month['Tmin']\n",
    "df_amplitude_month"
   ],
   "id": "f968ff81739c8bff",
   "outputs": [
    {
     "name": "stderr",
     "output_type": "stream",
     "text": [
      "/tmp/ipykernel_78343/2187709164.py:2: UserWarning: Converting to PeriodArray/Index representation will drop timezone information.\n",
      "  df_amplitude_month['year_month'] = df_amplitude_month['time'].dt.to_period(freq='M')\n"
     ]
    },
    {
     "data": {
      "text/plain": [
       "            Tmax  Tmin  amplitude\n",
       "year_month                       \n",
       "1950-01     11.2  -9.9       21.1\n",
       "1950-02     18.5  -6.4       24.9\n",
       "1950-03     18.0  -7.4       25.4\n",
       "1950-04     21.4  -2.0       23.4\n",
       "1950-05     31.2   5.3       25.9\n",
       "...          ...   ...        ...\n",
       "2024-10     29.5   5.9       23.6\n",
       "2024-11     21.5  -0.9       22.4\n",
       "2024-12     15.9  -5.4       21.3\n",
       "2025-01     18.2  -3.1       21.3\n",
       "2025-02      6.1   2.4        3.7\n",
       "\n",
       "[902 rows x 3 columns]"
      ],
      "text/html": [
       "<div>\n",
       "<style scoped>\n",
       "    .dataframe tbody tr th:only-of-type {\n",
       "        vertical-align: middle;\n",
       "    }\n",
       "\n",
       "    .dataframe tbody tr th {\n",
       "        vertical-align: top;\n",
       "    }\n",
       "\n",
       "    .dataframe thead th {\n",
       "        text-align: right;\n",
       "    }\n",
       "</style>\n",
       "<table border=\"1\" class=\"dataframe\">\n",
       "  <thead>\n",
       "    <tr style=\"text-align: right;\">\n",
       "      <th></th>\n",
       "      <th>Tmax</th>\n",
       "      <th>Tmin</th>\n",
       "      <th>amplitude</th>\n",
       "    </tr>\n",
       "    <tr>\n",
       "      <th>year_month</th>\n",
       "      <th></th>\n",
       "      <th></th>\n",
       "      <th></th>\n",
       "    </tr>\n",
       "  </thead>\n",
       "  <tbody>\n",
       "    <tr>\n",
       "      <th>1950-01</th>\n",
       "      <td>11.2</td>\n",
       "      <td>-9.9</td>\n",
       "      <td>21.1</td>\n",
       "    </tr>\n",
       "    <tr>\n",
       "      <th>1950-02</th>\n",
       "      <td>18.5</td>\n",
       "      <td>-6.4</td>\n",
       "      <td>24.9</td>\n",
       "    </tr>\n",
       "    <tr>\n",
       "      <th>1950-03</th>\n",
       "      <td>18.0</td>\n",
       "      <td>-7.4</td>\n",
       "      <td>25.4</td>\n",
       "    </tr>\n",
       "    <tr>\n",
       "      <th>1950-04</th>\n",
       "      <td>21.4</td>\n",
       "      <td>-2.0</td>\n",
       "      <td>23.4</td>\n",
       "    </tr>\n",
       "    <tr>\n",
       "      <th>1950-05</th>\n",
       "      <td>31.2</td>\n",
       "      <td>5.3</td>\n",
       "      <td>25.9</td>\n",
       "    </tr>\n",
       "    <tr>\n",
       "      <th>...</th>\n",
       "      <td>...</td>\n",
       "      <td>...</td>\n",
       "      <td>...</td>\n",
       "    </tr>\n",
       "    <tr>\n",
       "      <th>2024-10</th>\n",
       "      <td>29.5</td>\n",
       "      <td>5.9</td>\n",
       "      <td>23.6</td>\n",
       "    </tr>\n",
       "    <tr>\n",
       "      <th>2024-11</th>\n",
       "      <td>21.5</td>\n",
       "      <td>-0.9</td>\n",
       "      <td>22.4</td>\n",
       "    </tr>\n",
       "    <tr>\n",
       "      <th>2024-12</th>\n",
       "      <td>15.9</td>\n",
       "      <td>-5.4</td>\n",
       "      <td>21.3</td>\n",
       "    </tr>\n",
       "    <tr>\n",
       "      <th>2025-01</th>\n",
       "      <td>18.2</td>\n",
       "      <td>-3.1</td>\n",
       "      <td>21.3</td>\n",
       "    </tr>\n",
       "    <tr>\n",
       "      <th>2025-02</th>\n",
       "      <td>6.1</td>\n",
       "      <td>2.4</td>\n",
       "      <td>3.7</td>\n",
       "    </tr>\n",
       "  </tbody>\n",
       "</table>\n",
       "<p>902 rows × 3 columns</p>\n",
       "</div>"
      ]
     },
     "execution_count": 27,
     "metadata": {},
     "output_type": "execute_result"
    }
   ],
   "execution_count": 27
  },
  {
   "metadata": {
    "ExecuteTime": {
     "end_time": "2025-02-04T14:22:20.311345Z",
     "start_time": "2025-02-04T14:22:20.177440Z"
    }
   },
   "cell_type": "code",
   "source": [
    "df_amplitude_month_filtered = df_gre.copy()\n",
    "df_amplitude_month_filtered['year_month'] = df_amplitude_month_filtered['time'].dt.to_period(freq='M')\n",
    "df_amplitude_month_filtered = df_amplitude_month_filtered[df_amplitude_month_filtered['year_month'].dt.month.isin([1,2,7,8])]\n",
    "monthly_temp = df_amplitude_month_filtered.groupby('year_month')['temperature'].agg(Tmax='max', Tmin='min')\n",
    "monthly_temp['amplitude'] = monthly_temp['Tmax'] - monthly_temp['Tmin']\n",
    "monthly_temp"
   ],
   "id": "a6739069d36be8d2",
   "outputs": [
    {
     "name": "stderr",
     "output_type": "stream",
     "text": [
      "/tmp/ipykernel_78343/2012177327.py:2: UserWarning: Converting to PeriodArray/Index representation will drop timezone information.\n",
      "  df_amplitude_month_filtered['year_month'] = df_amplitude_month_filtered['time'].dt.to_period(freq='M')\n"
     ]
    },
    {
     "data": {
      "text/plain": [
       "            Tmax  Tmin  amplitude\n",
       "year_month                       \n",
       "1950-01     11.2  -9.9       21.1\n",
       "1950-02     18.5  -6.4       24.9\n",
       "1950-07     35.3  14.5       20.8\n",
       "1950-08     32.1  11.4       20.7\n",
       "1951-01      9.7  -8.0       17.7\n",
       "...          ...   ...        ...\n",
       "2024-02     19.6  -0.6       20.2\n",
       "2024-07     35.5  13.6       21.9\n",
       "2024-08     36.3  13.4       22.9\n",
       "2025-01     18.2  -3.1       21.3\n",
       "2025-02      6.1   2.4        3.7\n",
       "\n",
       "[302 rows x 3 columns]"
      ],
      "text/html": [
       "<div>\n",
       "<style scoped>\n",
       "    .dataframe tbody tr th:only-of-type {\n",
       "        vertical-align: middle;\n",
       "    }\n",
       "\n",
       "    .dataframe tbody tr th {\n",
       "        vertical-align: top;\n",
       "    }\n",
       "\n",
       "    .dataframe thead th {\n",
       "        text-align: right;\n",
       "    }\n",
       "</style>\n",
       "<table border=\"1\" class=\"dataframe\">\n",
       "  <thead>\n",
       "    <tr style=\"text-align: right;\">\n",
       "      <th></th>\n",
       "      <th>Tmax</th>\n",
       "      <th>Tmin</th>\n",
       "      <th>amplitude</th>\n",
       "    </tr>\n",
       "    <tr>\n",
       "      <th>year_month</th>\n",
       "      <th></th>\n",
       "      <th></th>\n",
       "      <th></th>\n",
       "    </tr>\n",
       "  </thead>\n",
       "  <tbody>\n",
       "    <tr>\n",
       "      <th>1950-01</th>\n",
       "      <td>11.2</td>\n",
       "      <td>-9.9</td>\n",
       "      <td>21.1</td>\n",
       "    </tr>\n",
       "    <tr>\n",
       "      <th>1950-02</th>\n",
       "      <td>18.5</td>\n",
       "      <td>-6.4</td>\n",
       "      <td>24.9</td>\n",
       "    </tr>\n",
       "    <tr>\n",
       "      <th>1950-07</th>\n",
       "      <td>35.3</td>\n",
       "      <td>14.5</td>\n",
       "      <td>20.8</td>\n",
       "    </tr>\n",
       "    <tr>\n",
       "      <th>1950-08</th>\n",
       "      <td>32.1</td>\n",
       "      <td>11.4</td>\n",
       "      <td>20.7</td>\n",
       "    </tr>\n",
       "    <tr>\n",
       "      <th>1951-01</th>\n",
       "      <td>9.7</td>\n",
       "      <td>-8.0</td>\n",
       "      <td>17.7</td>\n",
       "    </tr>\n",
       "    <tr>\n",
       "      <th>...</th>\n",
       "      <td>...</td>\n",
       "      <td>...</td>\n",
       "      <td>...</td>\n",
       "    </tr>\n",
       "    <tr>\n",
       "      <th>2024-02</th>\n",
       "      <td>19.6</td>\n",
       "      <td>-0.6</td>\n",
       "      <td>20.2</td>\n",
       "    </tr>\n",
       "    <tr>\n",
       "      <th>2024-07</th>\n",
       "      <td>35.5</td>\n",
       "      <td>13.6</td>\n",
       "      <td>21.9</td>\n",
       "    </tr>\n",
       "    <tr>\n",
       "      <th>2024-08</th>\n",
       "      <td>36.3</td>\n",
       "      <td>13.4</td>\n",
       "      <td>22.9</td>\n",
       "    </tr>\n",
       "    <tr>\n",
       "      <th>2025-01</th>\n",
       "      <td>18.2</td>\n",
       "      <td>-3.1</td>\n",
       "      <td>21.3</td>\n",
       "    </tr>\n",
       "    <tr>\n",
       "      <th>2025-02</th>\n",
       "      <td>6.1</td>\n",
       "      <td>2.4</td>\n",
       "      <td>3.7</td>\n",
       "    </tr>\n",
       "  </tbody>\n",
       "</table>\n",
       "<p>302 rows × 3 columns</p>\n",
       "</div>"
      ]
     },
     "execution_count": 36,
     "metadata": {},
     "output_type": "execute_result"
    }
   ],
   "execution_count": 36
  }
 ],
 "metadata": {
  "kernelspec": {
   "display_name": "Python 3",
   "language": "python",
   "name": "python3"
  },
  "language_info": {
   "codemirror_mode": {
    "name": "ipython",
    "version": 2
   },
   "file_extension": ".py",
   "mimetype": "text/x-python",
   "name": "python",
   "nbconvert_exporter": "python",
   "pygments_lexer": "ipython2",
   "version": "2.7.6"
  }
 },
 "nbformat": 4,
 "nbformat_minor": 5
}
