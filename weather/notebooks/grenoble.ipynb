{
 "cells": [
  {
   "cell_type": "code",
   "id": "initial_id",
   "metadata": {
    "collapsed": true,
    "ExecuteTime": {
     "end_time": "2025-02-05T13:26:34.234747Z",
     "start_time": "2025-02-05T13:26:33.667842Z"
    }
   },
   "source": [
    "import requests\n",
    "import pandas as pd\n",
    "import matplotlib.pyplot as plt"
   ],
   "outputs": [],
   "execution_count": 21
  },
  {
   "metadata": {
    "ExecuteTime": {
     "end_time": "2025-02-05T13:14:44.408566Z",
     "start_time": "2025-02-05T13:14:44.400039Z"
    }
   },
   "cell_type": "code",
   "source": [
    "url_grenoble = \"https://archive-api.open-meteo.com/v1/archive?latitude=45.1787&longitude=5.7148&start_date=1950-01-01&end_date=2025-02-01&hourly=temperature_2m&timezone=Europe%2FBerlin\"\n",
    "\n"
   ],
   "id": "b36babeaba9f8a4",
   "outputs": [],
   "execution_count": 3
  },
  {
   "metadata": {},
   "cell_type": "markdown",
   "source": "# GRENOBLE",
   "id": "e18dd1c5d205e692"
  },
  {
   "metadata": {
    "ExecuteTime": {
     "end_time": "2025-02-05T13:14:58.510753Z",
     "start_time": "2025-02-05T13:14:46.890826Z"
    }
   },
   "cell_type": "code",
   "source": [
    "# Get response\n",
    "response_gre = requests.get(url_grenoble)\n",
    "response_gre = response_gre.json()\n",
    "data_gre = response_gre['hourly']\n",
    "\n",
    "# Convert to df\n",
    "df_gre = pd.DataFrame(data_gre)\n",
    "\n",
    "# Rename column\n",
    "df_gre = df_gre.rename(columns={'temperature_2m':'temperature'})\n",
    "\n",
    "# Set date format\n",
    "df_gre['time'] = pd.to_datetime(df_gre['time'], utc=True)"
   ],
   "id": "299f641b74581276",
   "outputs": [],
   "execution_count": 4
  },
  {
   "metadata": {},
   "cell_type": "markdown",
   "source": "### Temperature by day (mean)",
   "id": "fe14eb60847478d"
  },
  {
   "metadata": {
    "ExecuteTime": {
     "end_time": "2025-02-05T13:50:09.106303Z",
     "start_time": "2025-02-05T13:50:08.574319Z"
    }
   },
   "cell_type": "code",
   "source": [
    "# GroupBy day\n",
    "df_gre_by_day = df_gre.groupby(df_gre['time'].dt.date)['temperature'].mean().reset_index()\n",
    "\n",
    "# Save to .csv\n",
    "df_gre_by_day.to_csv(\"../data/grenoble/meteo_gre_by_day.csv\", index=False)\n",
    "df_gre_by_day"
   ],
   "id": "3bb3dcad89bffeaa",
   "outputs": [
    {
     "data": {
      "text/plain": [
       "             time  temperature\n",
       "0      1950-01-01     1.645833\n",
       "1      1950-01-02     1.520833\n",
       "2      1950-01-03     3.595833\n",
       "3      1950-01-04     5.829167\n",
       "4      1950-01-05     5.741667\n",
       "...           ...          ...\n",
       "27421  2025-01-28     7.366667\n",
       "27422  2025-01-29     5.512500\n",
       "27423  2025-01-30     6.333333\n",
       "27424  2025-01-31     5.383333\n",
       "27425  2025-02-01     3.683333\n",
       "\n",
       "[27426 rows x 2 columns]"
      ],
      "text/html": [
       "<div>\n",
       "<style scoped>\n",
       "    .dataframe tbody tr th:only-of-type {\n",
       "        vertical-align: middle;\n",
       "    }\n",
       "\n",
       "    .dataframe tbody tr th {\n",
       "        vertical-align: top;\n",
       "    }\n",
       "\n",
       "    .dataframe thead th {\n",
       "        text-align: right;\n",
       "    }\n",
       "</style>\n",
       "<table border=\"1\" class=\"dataframe\">\n",
       "  <thead>\n",
       "    <tr style=\"text-align: right;\">\n",
       "      <th></th>\n",
       "      <th>time</th>\n",
       "      <th>temperature</th>\n",
       "    </tr>\n",
       "  </thead>\n",
       "  <tbody>\n",
       "    <tr>\n",
       "      <th>0</th>\n",
       "      <td>1950-01-01</td>\n",
       "      <td>1.645833</td>\n",
       "    </tr>\n",
       "    <tr>\n",
       "      <th>1</th>\n",
       "      <td>1950-01-02</td>\n",
       "      <td>1.520833</td>\n",
       "    </tr>\n",
       "    <tr>\n",
       "      <th>2</th>\n",
       "      <td>1950-01-03</td>\n",
       "      <td>3.595833</td>\n",
       "    </tr>\n",
       "    <tr>\n",
       "      <th>3</th>\n",
       "      <td>1950-01-04</td>\n",
       "      <td>5.829167</td>\n",
       "    </tr>\n",
       "    <tr>\n",
       "      <th>4</th>\n",
       "      <td>1950-01-05</td>\n",
       "      <td>5.741667</td>\n",
       "    </tr>\n",
       "    <tr>\n",
       "      <th>...</th>\n",
       "      <td>...</td>\n",
       "      <td>...</td>\n",
       "    </tr>\n",
       "    <tr>\n",
       "      <th>27421</th>\n",
       "      <td>2025-01-28</td>\n",
       "      <td>7.366667</td>\n",
       "    </tr>\n",
       "    <tr>\n",
       "      <th>27422</th>\n",
       "      <td>2025-01-29</td>\n",
       "      <td>5.512500</td>\n",
       "    </tr>\n",
       "    <tr>\n",
       "      <th>27423</th>\n",
       "      <td>2025-01-30</td>\n",
       "      <td>6.333333</td>\n",
       "    </tr>\n",
       "    <tr>\n",
       "      <th>27424</th>\n",
       "      <td>2025-01-31</td>\n",
       "      <td>5.383333</td>\n",
       "    </tr>\n",
       "    <tr>\n",
       "      <th>27425</th>\n",
       "      <td>2025-02-01</td>\n",
       "      <td>3.683333</td>\n",
       "    </tr>\n",
       "  </tbody>\n",
       "</table>\n",
       "<p>27426 rows × 2 columns</p>\n",
       "</div>"
      ]
     },
     "execution_count": 44,
     "metadata": {},
     "output_type": "execute_result"
    }
   ],
   "execution_count": 44
  },
  {
   "metadata": {},
   "cell_type": "markdown",
   "source": "### Filter temperatures",
   "id": "fc90ea30c87164f4"
  },
  {
   "metadata": {
    "ExecuteTime": {
     "end_time": "2025-02-05T13:50:18.988202Z",
     "start_time": "2025-02-05T13:50:18.907775Z"
    }
   },
   "cell_type": "code",
   "source": [
    "# Filter temperatures < 0\n",
    "df_gre['year'] = df_gre['time'].dt.year\n",
    "\n",
    "# df_gre\n",
    "df_gre_0 = df_gre[df_gre['temperature'] < 0]\n",
    "# df_gre_0\n",
    "\n",
    "occurrences_gre_0_per_year = df_gre_0.groupby('year').size().reset_index(name='nb_occurrences_0').set_index('year').fillna(0)\n"
   ],
   "id": "373da35b88a66e75",
   "outputs": [],
   "execution_count": 45
  },
  {
   "metadata": {
    "ExecuteTime": {
     "end_time": "2025-02-05T13:50:20.855953Z",
     "start_time": "2025-02-05T13:50:20.746086Z"
    }
   },
   "cell_type": "code",
   "source": [
    "# Filter temperatures > 30\n",
    "df_gre['year'] = df_gre['time'].dt.year\n",
    "df_gre_30 = df_gre[df_gre['temperature'] > 30]\n",
    "\n",
    "occurrences_gre_30_per_year = df_gre_30.groupby('year').size().reset_index(name='nb_occurrences_30').set_index('year')"
   ],
   "id": "f77511e8a7cfb1b1",
   "outputs": [],
   "execution_count": 46
  },
  {
   "metadata": {
    "ExecuteTime": {
     "end_time": "2025-02-05T13:50:38.815709Z",
     "start_time": "2025-02-05T13:50:38.807107Z"
    }
   },
   "cell_type": "code",
   "source": [
    "# Merge dfs\n",
    "final_df_occurrences = occurrences_gre_0_per_year.merge(occurrences_gre_30_per_year, on='year', how='outer')\n",
    "\n",
    "final_df_occurrences['nb_occurrences_30'] = final_df_occurrences['nb_occurrences_30'].fillna(0)\n",
    "final_df_occurrences['nb_occurrences_30'] = final_df_occurrences['nb_occurrences_30'].astype(int)\n",
    "\n",
    "final_df_occurrences.to_csv(\"../data/grenoble/meteo_gre_occurrences.csv\")\n"
   ],
   "id": "e3bbf80e042941b6",
   "outputs": [],
   "execution_count": 47
  },
  {
   "metadata": {},
   "cell_type": "markdown",
   "source": "### Temperature by year (mean)",
   "id": "e795d3248163b5e4"
  },
  {
   "metadata": {
    "ExecuteTime": {
     "end_time": "2025-02-05T13:50:43.203109Z",
     "start_time": "2025-02-05T13:50:43.050349Z"
    }
   },
   "cell_type": "code",
   "source": [
    "df_gre_by_year = df_gre.groupby(df_gre['time'].dt.year)['temperature'].mean().reset_index()\n",
    "df_gre_by_year = df_gre_by_year.iloc[:-1]\n",
    "df_gre_by_year['temperature'] = round(df_gre_by_year['temperature'], 2)\n",
    "df_gre_by_year"
   ],
   "id": "9d440f4846d54788",
   "outputs": [
    {
     "data": {
      "text/plain": [
       "    time  temperature\n",
       "0   1950        11.64\n",
       "1   1951        11.36\n",
       "2   1952        11.36\n",
       "3   1953        11.39\n",
       "4   1954        10.58\n",
       "..   ...          ...\n",
       "70  2020        14.19\n",
       "71  2021        12.74\n",
       "72  2022        14.83\n",
       "73  2023        14.15\n",
       "74  2024        13.68\n",
       "\n",
       "[75 rows x 2 columns]"
      ],
      "text/html": [
       "<div>\n",
       "<style scoped>\n",
       "    .dataframe tbody tr th:only-of-type {\n",
       "        vertical-align: middle;\n",
       "    }\n",
       "\n",
       "    .dataframe tbody tr th {\n",
       "        vertical-align: top;\n",
       "    }\n",
       "\n",
       "    .dataframe thead th {\n",
       "        text-align: right;\n",
       "    }\n",
       "</style>\n",
       "<table border=\"1\" class=\"dataframe\">\n",
       "  <thead>\n",
       "    <tr style=\"text-align: right;\">\n",
       "      <th></th>\n",
       "      <th>time</th>\n",
       "      <th>temperature</th>\n",
       "    </tr>\n",
       "  </thead>\n",
       "  <tbody>\n",
       "    <tr>\n",
       "      <th>0</th>\n",
       "      <td>1950</td>\n",
       "      <td>11.64</td>\n",
       "    </tr>\n",
       "    <tr>\n",
       "      <th>1</th>\n",
       "      <td>1951</td>\n",
       "      <td>11.36</td>\n",
       "    </tr>\n",
       "    <tr>\n",
       "      <th>2</th>\n",
       "      <td>1952</td>\n",
       "      <td>11.36</td>\n",
       "    </tr>\n",
       "    <tr>\n",
       "      <th>3</th>\n",
       "      <td>1953</td>\n",
       "      <td>11.39</td>\n",
       "    </tr>\n",
       "    <tr>\n",
       "      <th>4</th>\n",
       "      <td>1954</td>\n",
       "      <td>10.58</td>\n",
       "    </tr>\n",
       "    <tr>\n",
       "      <th>...</th>\n",
       "      <td>...</td>\n",
       "      <td>...</td>\n",
       "    </tr>\n",
       "    <tr>\n",
       "      <th>70</th>\n",
       "      <td>2020</td>\n",
       "      <td>14.19</td>\n",
       "    </tr>\n",
       "    <tr>\n",
       "      <th>71</th>\n",
       "      <td>2021</td>\n",
       "      <td>12.74</td>\n",
       "    </tr>\n",
       "    <tr>\n",
       "      <th>72</th>\n",
       "      <td>2022</td>\n",
       "      <td>14.83</td>\n",
       "    </tr>\n",
       "    <tr>\n",
       "      <th>73</th>\n",
       "      <td>2023</td>\n",
       "      <td>14.15</td>\n",
       "    </tr>\n",
       "    <tr>\n",
       "      <th>74</th>\n",
       "      <td>2024</td>\n",
       "      <td>13.68</td>\n",
       "    </tr>\n",
       "  </tbody>\n",
       "</table>\n",
       "<p>75 rows × 2 columns</p>\n",
       "</div>"
      ]
     },
     "execution_count": 48,
     "metadata": {},
     "output_type": "execute_result"
    }
   ],
   "execution_count": 48
  },
  {
   "metadata": {
    "ExecuteTime": {
     "end_time": "2025-02-05T13:50:53.786447Z",
     "start_time": "2025-02-05T13:50:53.763705Z"
    }
   },
   "cell_type": "code",
   "source": [
    "# Base 100 en 1950\n",
    "base_1950 = df_gre_by_year[df_gre_by_year['time'] == 1950]['temperature'].values[0]\n",
    "\n",
    "# Calculer l'indice base 100\n",
    "df_gre_by_year['indice_base_100'] = (df_gre_by_year['temperature'] / base_1950) * 100\n",
    "df_gre_by_year['indice_base_100'] = round(df_gre_by_year['indice_base_100'], 2)\n",
    "df_gre_by_year.to_csv(\"../data/grenoble/meteo_by_year_base100_1950.csv\", index=False)"
   ],
   "id": "759fcc4af8b83a44",
   "outputs": [],
   "execution_count": 49
  },
  {
   "metadata": {},
   "cell_type": "markdown",
   "source": "### Temperature by decade",
   "id": "51848572a03d97d7"
  },
  {
   "metadata": {
    "ExecuteTime": {
     "end_time": "2025-02-05T13:51:02.805675Z",
     "start_time": "2025-02-05T13:51:02.790837Z"
    }
   },
   "cell_type": "code",
   "source": [
    "# Copy df\n",
    "df_gre_by_year_decade = df_gre_by_year.copy()\n",
    "\n",
    "# Ajouter une colonne \"décennie\" en arrondissant l'année à la dizaine inférieure\n",
    "df_gre_by_year_decade['decade'] = (df_gre_by_year_decade['time'] // 10) * 10\n",
    "\n",
    "# GroupBy decade\n",
    "df_gre_by_year_decade = df_gre_by_year_decade.groupby('decade')['temperature'].mean().reset_index()\n",
    "\n",
    "base_decade_1950 = df_gre_by_year_decade[df_gre_by_year_decade['decade'] == 1950]['temperature'].values[0]\n",
    "df_gre_by_year_decade['indice_base_100'] = round((df_gre_by_year_decade['temperature'] / base_decade_1950) * 100, 2)\n",
    "\n",
    "df_gre_by_year_decade.to_csv(\"../data/grenoble/meteo_by_year_base100_decade.csv\", index=False)"
   ],
   "id": "786ba71b0a9804a",
   "outputs": [],
   "execution_count": 50
  },
  {
   "metadata": {},
   "cell_type": "markdown",
   "source": "### Temperature rolling average 5 years",
   "id": "4ffc0c13c919888"
  },
  {
   "metadata": {
    "ExecuteTime": {
     "end_time": "2025-02-05T13:51:12.179119Z",
     "start_time": "2025-02-05T13:51:12.162708Z"
    }
   },
   "cell_type": "code",
   "source": [
    "df_gre_rolling = df_gre_by_year.copy()\n",
    "df_gre_rolling['rolling_avg_5y'] = round(df_gre_rolling['temperature'].rolling(window=5).mean(), 2).fillna(0)\n",
    "\n",
    "df_gre_rolling.to_csv(\"../data/grenoble/meteo_by_year_rolling.csv\", index=False)\n",
    "\n",
    "df_gre_rolling"
   ],
   "id": "7a51f55c42b3a21b",
   "outputs": [
    {
     "data": {
      "text/plain": [
       "    time  temperature  indice_base_100  rolling_avg_5y\n",
       "0   1950        11.64           100.00            0.00\n",
       "1   1951        11.36            97.59            0.00\n",
       "2   1952        11.36            97.59            0.00\n",
       "3   1953        11.39            97.85            0.00\n",
       "4   1954        10.58            90.89           11.27\n",
       "..   ...          ...              ...             ...\n",
       "70  2020        14.19           121.91           13.53\n",
       "71  2021        12.74           109.45           13.54\n",
       "72  2022        14.83           127.41           13.88\n",
       "73  2023        14.15           121.56           13.90\n",
       "74  2024        13.68           117.53           13.92\n",
       "\n",
       "[75 rows x 4 columns]"
      ],
      "text/html": [
       "<div>\n",
       "<style scoped>\n",
       "    .dataframe tbody tr th:only-of-type {\n",
       "        vertical-align: middle;\n",
       "    }\n",
       "\n",
       "    .dataframe tbody tr th {\n",
       "        vertical-align: top;\n",
       "    }\n",
       "\n",
       "    .dataframe thead th {\n",
       "        text-align: right;\n",
       "    }\n",
       "</style>\n",
       "<table border=\"1\" class=\"dataframe\">\n",
       "  <thead>\n",
       "    <tr style=\"text-align: right;\">\n",
       "      <th></th>\n",
       "      <th>time</th>\n",
       "      <th>temperature</th>\n",
       "      <th>indice_base_100</th>\n",
       "      <th>rolling_avg_5y</th>\n",
       "    </tr>\n",
       "  </thead>\n",
       "  <tbody>\n",
       "    <tr>\n",
       "      <th>0</th>\n",
       "      <td>1950</td>\n",
       "      <td>11.64</td>\n",
       "      <td>100.00</td>\n",
       "      <td>0.00</td>\n",
       "    </tr>\n",
       "    <tr>\n",
       "      <th>1</th>\n",
       "      <td>1951</td>\n",
       "      <td>11.36</td>\n",
       "      <td>97.59</td>\n",
       "      <td>0.00</td>\n",
       "    </tr>\n",
       "    <tr>\n",
       "      <th>2</th>\n",
       "      <td>1952</td>\n",
       "      <td>11.36</td>\n",
       "      <td>97.59</td>\n",
       "      <td>0.00</td>\n",
       "    </tr>\n",
       "    <tr>\n",
       "      <th>3</th>\n",
       "      <td>1953</td>\n",
       "      <td>11.39</td>\n",
       "      <td>97.85</td>\n",
       "      <td>0.00</td>\n",
       "    </tr>\n",
       "    <tr>\n",
       "      <th>4</th>\n",
       "      <td>1954</td>\n",
       "      <td>10.58</td>\n",
       "      <td>90.89</td>\n",
       "      <td>11.27</td>\n",
       "    </tr>\n",
       "    <tr>\n",
       "      <th>...</th>\n",
       "      <td>...</td>\n",
       "      <td>...</td>\n",
       "      <td>...</td>\n",
       "      <td>...</td>\n",
       "    </tr>\n",
       "    <tr>\n",
       "      <th>70</th>\n",
       "      <td>2020</td>\n",
       "      <td>14.19</td>\n",
       "      <td>121.91</td>\n",
       "      <td>13.53</td>\n",
       "    </tr>\n",
       "    <tr>\n",
       "      <th>71</th>\n",
       "      <td>2021</td>\n",
       "      <td>12.74</td>\n",
       "      <td>109.45</td>\n",
       "      <td>13.54</td>\n",
       "    </tr>\n",
       "    <tr>\n",
       "      <th>72</th>\n",
       "      <td>2022</td>\n",
       "      <td>14.83</td>\n",
       "      <td>127.41</td>\n",
       "      <td>13.88</td>\n",
       "    </tr>\n",
       "    <tr>\n",
       "      <th>73</th>\n",
       "      <td>2023</td>\n",
       "      <td>14.15</td>\n",
       "      <td>121.56</td>\n",
       "      <td>13.90</td>\n",
       "    </tr>\n",
       "    <tr>\n",
       "      <th>74</th>\n",
       "      <td>2024</td>\n",
       "      <td>13.68</td>\n",
       "      <td>117.53</td>\n",
       "      <td>13.92</td>\n",
       "    </tr>\n",
       "  </tbody>\n",
       "</table>\n",
       "<p>75 rows × 4 columns</p>\n",
       "</div>"
      ]
     },
     "execution_count": 51,
     "metadata": {},
     "output_type": "execute_result"
    }
   ],
   "execution_count": 51
  },
  {
   "metadata": {},
   "cell_type": "markdown",
   "source": "### Top 5 increase - decrease",
   "id": "63b6d14f39251acd"
  },
  {
   "metadata": {
    "ExecuteTime": {
     "end_time": "2025-02-05T13:51:16.917269Z",
     "start_time": "2025-02-05T13:51:16.874829Z"
    }
   },
   "cell_type": "code",
   "source": [
    "df_gre_max_increase_decrease = df_gre_rolling.copy()\n",
    "df_gre_max_increase_decrease = df_gre_max_increase_decrease.drop(columns=['rolling_avg_5y', 'indice_base_100'])\n",
    "df_gre_max_increase_decrease['temperature_change'] = df_gre_max_increase_decrease['temperature'].diff()\n",
    "# df_gre_max_increase_decrease\n",
    "\n",
    "\n",
    "# Top 5 increase temperature from one year to another\n",
    "top5_increase = df_gre_max_increase_decrease.nlargest(5, 'temperature_change')[['time', 'temperature_change']]\n",
    "top5_increase = top5_increase.rename(columns={'temperature_change':'increase', 'time': 'time_increase'})\n",
    "top5_increase"
   ],
   "id": "8570fee595925720",
   "outputs": [
    {
     "data": {
      "text/plain": [
       "    time_increase  increase\n",
       "72           2022      2.09\n",
       "61           2011      2.06\n",
       "64           2014      1.46\n",
       "14           1964      1.33\n",
       "7            1957      1.32"
      ],
      "text/html": [
       "<div>\n",
       "<style scoped>\n",
       "    .dataframe tbody tr th:only-of-type {\n",
       "        vertical-align: middle;\n",
       "    }\n",
       "\n",
       "    .dataframe tbody tr th {\n",
       "        vertical-align: top;\n",
       "    }\n",
       "\n",
       "    .dataframe thead th {\n",
       "        text-align: right;\n",
       "    }\n",
       "</style>\n",
       "<table border=\"1\" class=\"dataframe\">\n",
       "  <thead>\n",
       "    <tr style=\"text-align: right;\">\n",
       "      <th></th>\n",
       "      <th>time_increase</th>\n",
       "      <th>increase</th>\n",
       "    </tr>\n",
       "  </thead>\n",
       "  <tbody>\n",
       "    <tr>\n",
       "      <th>72</th>\n",
       "      <td>2022</td>\n",
       "      <td>2.09</td>\n",
       "    </tr>\n",
       "    <tr>\n",
       "      <th>61</th>\n",
       "      <td>2011</td>\n",
       "      <td>2.06</td>\n",
       "    </tr>\n",
       "    <tr>\n",
       "      <th>64</th>\n",
       "      <td>2014</td>\n",
       "      <td>1.46</td>\n",
       "    </tr>\n",
       "    <tr>\n",
       "      <th>14</th>\n",
       "      <td>1964</td>\n",
       "      <td>1.33</td>\n",
       "    </tr>\n",
       "    <tr>\n",
       "      <th>7</th>\n",
       "      <td>1957</td>\n",
       "      <td>1.32</td>\n",
       "    </tr>\n",
       "  </tbody>\n",
       "</table>\n",
       "</div>"
      ]
     },
     "execution_count": 52,
     "metadata": {},
     "output_type": "execute_result"
    }
   ],
   "execution_count": 52
  },
  {
   "metadata": {
    "ExecuteTime": {
     "end_time": "2025-02-05T13:51:20.421877Z",
     "start_time": "2025-02-05T13:51:20.386302Z"
    }
   },
   "cell_type": "code",
   "source": [
    "# Top 5 decrease temperature from one year to another\n",
    "top5_decrease = df_gre_max_increase_decrease.nsmallest(5, 'temperature_change')[['time', 'temperature_change']]\n",
    "top5_decrease = top5_decrease.rename(columns={'temperature_change':'decrease', 'time': 'time_decrease'})\n",
    "top5_decrease\n"
   ],
   "id": "c2141cfe4f936514",
   "outputs": [
    {
     "data": {
      "text/plain": [
       "    time_decrease  decrease\n",
       "12           1962     -1.62\n",
       "60           2010     -1.53\n",
       "6            1956     -1.47\n",
       "71           2021     -1.45\n",
       "54           2004     -1.19"
      ],
      "text/html": [
       "<div>\n",
       "<style scoped>\n",
       "    .dataframe tbody tr th:only-of-type {\n",
       "        vertical-align: middle;\n",
       "    }\n",
       "\n",
       "    .dataframe tbody tr th {\n",
       "        vertical-align: top;\n",
       "    }\n",
       "\n",
       "    .dataframe thead th {\n",
       "        text-align: right;\n",
       "    }\n",
       "</style>\n",
       "<table border=\"1\" class=\"dataframe\">\n",
       "  <thead>\n",
       "    <tr style=\"text-align: right;\">\n",
       "      <th></th>\n",
       "      <th>time_decrease</th>\n",
       "      <th>decrease</th>\n",
       "    </tr>\n",
       "  </thead>\n",
       "  <tbody>\n",
       "    <tr>\n",
       "      <th>12</th>\n",
       "      <td>1962</td>\n",
       "      <td>-1.62</td>\n",
       "    </tr>\n",
       "    <tr>\n",
       "      <th>60</th>\n",
       "      <td>2010</td>\n",
       "      <td>-1.53</td>\n",
       "    </tr>\n",
       "    <tr>\n",
       "      <th>6</th>\n",
       "      <td>1956</td>\n",
       "      <td>-1.47</td>\n",
       "    </tr>\n",
       "    <tr>\n",
       "      <th>71</th>\n",
       "      <td>2021</td>\n",
       "      <td>-1.45</td>\n",
       "    </tr>\n",
       "    <tr>\n",
       "      <th>54</th>\n",
       "      <td>2004</td>\n",
       "      <td>-1.19</td>\n",
       "    </tr>\n",
       "  </tbody>\n",
       "</table>\n",
       "</div>"
      ]
     },
     "execution_count": 53,
     "metadata": {},
     "output_type": "execute_result"
    }
   ],
   "execution_count": 53
  },
  {
   "metadata": {},
   "cell_type": "markdown",
   "source": "### Temperatures range by day",
   "id": "9aaab02e32e226c0"
  },
  {
   "metadata": {
    "ExecuteTime": {
     "end_time": "2025-02-05T13:51:24.383055Z",
     "start_time": "2025-02-05T13:51:23.973286Z"
    }
   },
   "cell_type": "code",
   "source": [
    "df_amplitude = df_gre.copy()\n",
    "df_amplitude['time'] = df_amplitude['time'].dt.date\n",
    "daily_temp = df_amplitude.groupby('time')['temperature'].agg(Tmax='max', Tmin='min')\n",
    "daily_temp['amplitude'] = daily_temp['Tmax'] - daily_temp['Tmin']\n",
    "daily_temp"
   ],
   "id": "4db70f33caa0b59f",
   "outputs": [
    {
     "data": {
      "text/plain": [
       "            Tmax  Tmin  amplitude\n",
       "time                             \n",
       "1950-01-01   4.8  -0.1        4.9\n",
       "1950-01-02   5.5  -1.9        7.4\n",
       "1950-01-03   5.5   2.0        3.5\n",
       "1950-01-04   6.5   4.9        1.6\n",
       "1950-01-05   7.3   4.5        2.8\n",
       "...          ...   ...        ...\n",
       "2025-01-28  11.2   5.2        6.0\n",
       "2025-01-29  12.6   1.2       11.4\n",
       "2025-01-30   9.7   3.1        6.6\n",
       "2025-01-31   6.3   3.7        2.6\n",
       "2025-02-01   6.1   2.4        3.7\n",
       "\n",
       "[27426 rows x 3 columns]"
      ],
      "text/html": [
       "<div>\n",
       "<style scoped>\n",
       "    .dataframe tbody tr th:only-of-type {\n",
       "        vertical-align: middle;\n",
       "    }\n",
       "\n",
       "    .dataframe tbody tr th {\n",
       "        vertical-align: top;\n",
       "    }\n",
       "\n",
       "    .dataframe thead th {\n",
       "        text-align: right;\n",
       "    }\n",
       "</style>\n",
       "<table border=\"1\" class=\"dataframe\">\n",
       "  <thead>\n",
       "    <tr style=\"text-align: right;\">\n",
       "      <th></th>\n",
       "      <th>Tmax</th>\n",
       "      <th>Tmin</th>\n",
       "      <th>amplitude</th>\n",
       "    </tr>\n",
       "    <tr>\n",
       "      <th>time</th>\n",
       "      <th></th>\n",
       "      <th></th>\n",
       "      <th></th>\n",
       "    </tr>\n",
       "  </thead>\n",
       "  <tbody>\n",
       "    <tr>\n",
       "      <th>1950-01-01</th>\n",
       "      <td>4.8</td>\n",
       "      <td>-0.1</td>\n",
       "      <td>4.9</td>\n",
       "    </tr>\n",
       "    <tr>\n",
       "      <th>1950-01-02</th>\n",
       "      <td>5.5</td>\n",
       "      <td>-1.9</td>\n",
       "      <td>7.4</td>\n",
       "    </tr>\n",
       "    <tr>\n",
       "      <th>1950-01-03</th>\n",
       "      <td>5.5</td>\n",
       "      <td>2.0</td>\n",
       "      <td>3.5</td>\n",
       "    </tr>\n",
       "    <tr>\n",
       "      <th>1950-01-04</th>\n",
       "      <td>6.5</td>\n",
       "      <td>4.9</td>\n",
       "      <td>1.6</td>\n",
       "    </tr>\n",
       "    <tr>\n",
       "      <th>1950-01-05</th>\n",
       "      <td>7.3</td>\n",
       "      <td>4.5</td>\n",
       "      <td>2.8</td>\n",
       "    </tr>\n",
       "    <tr>\n",
       "      <th>...</th>\n",
       "      <td>...</td>\n",
       "      <td>...</td>\n",
       "      <td>...</td>\n",
       "    </tr>\n",
       "    <tr>\n",
       "      <th>2025-01-28</th>\n",
       "      <td>11.2</td>\n",
       "      <td>5.2</td>\n",
       "      <td>6.0</td>\n",
       "    </tr>\n",
       "    <tr>\n",
       "      <th>2025-01-29</th>\n",
       "      <td>12.6</td>\n",
       "      <td>1.2</td>\n",
       "      <td>11.4</td>\n",
       "    </tr>\n",
       "    <tr>\n",
       "      <th>2025-01-30</th>\n",
       "      <td>9.7</td>\n",
       "      <td>3.1</td>\n",
       "      <td>6.6</td>\n",
       "    </tr>\n",
       "    <tr>\n",
       "      <th>2025-01-31</th>\n",
       "      <td>6.3</td>\n",
       "      <td>3.7</td>\n",
       "      <td>2.6</td>\n",
       "    </tr>\n",
       "    <tr>\n",
       "      <th>2025-02-01</th>\n",
       "      <td>6.1</td>\n",
       "      <td>2.4</td>\n",
       "      <td>3.7</td>\n",
       "    </tr>\n",
       "  </tbody>\n",
       "</table>\n",
       "<p>27426 rows × 3 columns</p>\n",
       "</div>"
      ]
     },
     "execution_count": 54,
     "metadata": {},
     "output_type": "execute_result"
    }
   ],
   "execution_count": 54
  },
  {
   "metadata": {},
   "cell_type": "markdown",
   "source": "### Temperature range by month",
   "id": "b703a0a78bbc5279"
  },
  {
   "metadata": {
    "ExecuteTime": {
     "end_time": "2025-02-05T13:51:28.025398Z",
     "start_time": "2025-02-05T13:51:27.803231Z"
    }
   },
   "cell_type": "code",
   "source": [
    "df_amplitude_month = df_gre.copy()\n",
    "df_amplitude_month['year_month'] = df_amplitude_month['time'].dt.to_period(freq='M')\n",
    "df_amplitude_month = df_amplitude_month.groupby('year_month')['temperature'].agg(Tmax='max', Tmin='min')\n",
    "df_amplitude_month['amplitude'] = df_amplitude_month['Tmax'] - df_amplitude_month['Tmin']\n",
    "df_amplitude_month"
   ],
   "id": "f968ff81739c8bff",
   "outputs": [
    {
     "name": "stderr",
     "output_type": "stream",
     "text": [
      "/tmp/ipykernel_10903/2187709164.py:2: UserWarning: Converting to PeriodArray/Index representation will drop timezone information.\n",
      "  df_amplitude_month['year_month'] = df_amplitude_month['time'].dt.to_period(freq='M')\n"
     ]
    },
    {
     "data": {
      "text/plain": [
       "            Tmax  Tmin  amplitude\n",
       "year_month                       \n",
       "1950-01     11.2  -9.9       21.1\n",
       "1950-02     18.5  -6.4       24.9\n",
       "1950-03     18.0  -7.4       25.4\n",
       "1950-04     21.4  -2.0       23.4\n",
       "1950-05     31.2   5.3       25.9\n",
       "...          ...   ...        ...\n",
       "2024-10     29.5   5.9       23.6\n",
       "2024-11     21.5  -0.9       22.4\n",
       "2024-12     15.9  -5.4       21.3\n",
       "2025-01     18.2  -3.1       21.3\n",
       "2025-02      6.1   2.4        3.7\n",
       "\n",
       "[902 rows x 3 columns]"
      ],
      "text/html": [
       "<div>\n",
       "<style scoped>\n",
       "    .dataframe tbody tr th:only-of-type {\n",
       "        vertical-align: middle;\n",
       "    }\n",
       "\n",
       "    .dataframe tbody tr th {\n",
       "        vertical-align: top;\n",
       "    }\n",
       "\n",
       "    .dataframe thead th {\n",
       "        text-align: right;\n",
       "    }\n",
       "</style>\n",
       "<table border=\"1\" class=\"dataframe\">\n",
       "  <thead>\n",
       "    <tr style=\"text-align: right;\">\n",
       "      <th></th>\n",
       "      <th>Tmax</th>\n",
       "      <th>Tmin</th>\n",
       "      <th>amplitude</th>\n",
       "    </tr>\n",
       "    <tr>\n",
       "      <th>year_month</th>\n",
       "      <th></th>\n",
       "      <th></th>\n",
       "      <th></th>\n",
       "    </tr>\n",
       "  </thead>\n",
       "  <tbody>\n",
       "    <tr>\n",
       "      <th>1950-01</th>\n",
       "      <td>11.2</td>\n",
       "      <td>-9.9</td>\n",
       "      <td>21.1</td>\n",
       "    </tr>\n",
       "    <tr>\n",
       "      <th>1950-02</th>\n",
       "      <td>18.5</td>\n",
       "      <td>-6.4</td>\n",
       "      <td>24.9</td>\n",
       "    </tr>\n",
       "    <tr>\n",
       "      <th>1950-03</th>\n",
       "      <td>18.0</td>\n",
       "      <td>-7.4</td>\n",
       "      <td>25.4</td>\n",
       "    </tr>\n",
       "    <tr>\n",
       "      <th>1950-04</th>\n",
       "      <td>21.4</td>\n",
       "      <td>-2.0</td>\n",
       "      <td>23.4</td>\n",
       "    </tr>\n",
       "    <tr>\n",
       "      <th>1950-05</th>\n",
       "      <td>31.2</td>\n",
       "      <td>5.3</td>\n",
       "      <td>25.9</td>\n",
       "    </tr>\n",
       "    <tr>\n",
       "      <th>...</th>\n",
       "      <td>...</td>\n",
       "      <td>...</td>\n",
       "      <td>...</td>\n",
       "    </tr>\n",
       "    <tr>\n",
       "      <th>2024-10</th>\n",
       "      <td>29.5</td>\n",
       "      <td>5.9</td>\n",
       "      <td>23.6</td>\n",
       "    </tr>\n",
       "    <tr>\n",
       "      <th>2024-11</th>\n",
       "      <td>21.5</td>\n",
       "      <td>-0.9</td>\n",
       "      <td>22.4</td>\n",
       "    </tr>\n",
       "    <tr>\n",
       "      <th>2024-12</th>\n",
       "      <td>15.9</td>\n",
       "      <td>-5.4</td>\n",
       "      <td>21.3</td>\n",
       "    </tr>\n",
       "    <tr>\n",
       "      <th>2025-01</th>\n",
       "      <td>18.2</td>\n",
       "      <td>-3.1</td>\n",
       "      <td>21.3</td>\n",
       "    </tr>\n",
       "    <tr>\n",
       "      <th>2025-02</th>\n",
       "      <td>6.1</td>\n",
       "      <td>2.4</td>\n",
       "      <td>3.7</td>\n",
       "    </tr>\n",
       "  </tbody>\n",
       "</table>\n",
       "<p>902 rows × 3 columns</p>\n",
       "</div>"
      ]
     },
     "execution_count": 55,
     "metadata": {},
     "output_type": "execute_result"
    }
   ],
   "execution_count": 55
  },
  {
   "metadata": {
    "ExecuteTime": {
     "end_time": "2025-02-05T13:51:32.530559Z",
     "start_time": "2025-02-05T13:51:32.139555Z"
    }
   },
   "cell_type": "code",
   "source": [
    "df_amplitude_month_filtered = df_gre.copy()\n",
    "df_amplitude_month_filtered['year_month'] = df_amplitude_month_filtered['time'].dt.to_period(freq='M')\n",
    "df_amplitude_month_filtered = df_amplitude_month_filtered[df_amplitude_month_filtered['year_month'].dt.month.isin([1,2,7,8])]\n",
    "monthly_temp = df_amplitude_month_filtered.groupby('year_month')['temperature'].agg(Tmax='max', Tmin='min')\n",
    "monthly_temp['amplitude'] = monthly_temp['Tmax'] - monthly_temp['Tmin']\n",
    "monthly_temp"
   ],
   "id": "a6739069d36be8d2",
   "outputs": [
    {
     "name": "stderr",
     "output_type": "stream",
     "text": [
      "/tmp/ipykernel_10903/2012177327.py:2: UserWarning: Converting to PeriodArray/Index representation will drop timezone information.\n",
      "  df_amplitude_month_filtered['year_month'] = df_amplitude_month_filtered['time'].dt.to_period(freq='M')\n"
     ]
    },
    {
     "data": {
      "text/plain": [
       "            Tmax  Tmin  amplitude\n",
       "year_month                       \n",
       "1950-01     11.2  -9.9       21.1\n",
       "1950-02     18.5  -6.4       24.9\n",
       "1950-07     35.3  14.5       20.8\n",
       "1950-08     32.1  11.4       20.7\n",
       "1951-01      9.7  -8.0       17.7\n",
       "...          ...   ...        ...\n",
       "2024-02     19.6  -0.6       20.2\n",
       "2024-07     35.5  13.6       21.9\n",
       "2024-08     36.3  13.4       22.9\n",
       "2025-01     18.2  -3.1       21.3\n",
       "2025-02      6.1   2.4        3.7\n",
       "\n",
       "[302 rows x 3 columns]"
      ],
      "text/html": [
       "<div>\n",
       "<style scoped>\n",
       "    .dataframe tbody tr th:only-of-type {\n",
       "        vertical-align: middle;\n",
       "    }\n",
       "\n",
       "    .dataframe tbody tr th {\n",
       "        vertical-align: top;\n",
       "    }\n",
       "\n",
       "    .dataframe thead th {\n",
       "        text-align: right;\n",
       "    }\n",
       "</style>\n",
       "<table border=\"1\" class=\"dataframe\">\n",
       "  <thead>\n",
       "    <tr style=\"text-align: right;\">\n",
       "      <th></th>\n",
       "      <th>Tmax</th>\n",
       "      <th>Tmin</th>\n",
       "      <th>amplitude</th>\n",
       "    </tr>\n",
       "    <tr>\n",
       "      <th>year_month</th>\n",
       "      <th></th>\n",
       "      <th></th>\n",
       "      <th></th>\n",
       "    </tr>\n",
       "  </thead>\n",
       "  <tbody>\n",
       "    <tr>\n",
       "      <th>1950-01</th>\n",
       "      <td>11.2</td>\n",
       "      <td>-9.9</td>\n",
       "      <td>21.1</td>\n",
       "    </tr>\n",
       "    <tr>\n",
       "      <th>1950-02</th>\n",
       "      <td>18.5</td>\n",
       "      <td>-6.4</td>\n",
       "      <td>24.9</td>\n",
       "    </tr>\n",
       "    <tr>\n",
       "      <th>1950-07</th>\n",
       "      <td>35.3</td>\n",
       "      <td>14.5</td>\n",
       "      <td>20.8</td>\n",
       "    </tr>\n",
       "    <tr>\n",
       "      <th>1950-08</th>\n",
       "      <td>32.1</td>\n",
       "      <td>11.4</td>\n",
       "      <td>20.7</td>\n",
       "    </tr>\n",
       "    <tr>\n",
       "      <th>1951-01</th>\n",
       "      <td>9.7</td>\n",
       "      <td>-8.0</td>\n",
       "      <td>17.7</td>\n",
       "    </tr>\n",
       "    <tr>\n",
       "      <th>...</th>\n",
       "      <td>...</td>\n",
       "      <td>...</td>\n",
       "      <td>...</td>\n",
       "    </tr>\n",
       "    <tr>\n",
       "      <th>2024-02</th>\n",
       "      <td>19.6</td>\n",
       "      <td>-0.6</td>\n",
       "      <td>20.2</td>\n",
       "    </tr>\n",
       "    <tr>\n",
       "      <th>2024-07</th>\n",
       "      <td>35.5</td>\n",
       "      <td>13.6</td>\n",
       "      <td>21.9</td>\n",
       "    </tr>\n",
       "    <tr>\n",
       "      <th>2024-08</th>\n",
       "      <td>36.3</td>\n",
       "      <td>13.4</td>\n",
       "      <td>22.9</td>\n",
       "    </tr>\n",
       "    <tr>\n",
       "      <th>2025-01</th>\n",
       "      <td>18.2</td>\n",
       "      <td>-3.1</td>\n",
       "      <td>21.3</td>\n",
       "    </tr>\n",
       "    <tr>\n",
       "      <th>2025-02</th>\n",
       "      <td>6.1</td>\n",
       "      <td>2.4</td>\n",
       "      <td>3.7</td>\n",
       "    </tr>\n",
       "  </tbody>\n",
       "</table>\n",
       "<p>302 rows × 3 columns</p>\n",
       "</div>"
      ]
     },
     "execution_count": 56,
     "metadata": {},
     "output_type": "execute_result"
    }
   ],
   "execution_count": 56
  },
  {
   "metadata": {},
   "cell_type": "markdown",
   "source": "### Number of days above 15º by year",
   "id": "e2cece8fc61c5be9"
  },
  {
   "metadata": {
    "ExecuteTime": {
     "end_time": "2025-02-05T13:51:37.514784Z",
     "start_time": "2025-02-05T13:51:37.450886Z"
    }
   },
   "cell_type": "code",
   "source": [
    "df_above_15 = df_gre_by_day.copy()\n",
    "df_above_15['time'] = pd.to_datetime(df_above_15['time'], utc=True)\n",
    "df_above_15 = df_above_15[df_above_15['temperature'] >= 15]\n",
    "df_above_15['year'] = df_above_15['time'].dt.year\n",
    "df_above_15_by_year = df_above_15.groupby('year')['temperature'].count().reset_index(name='nb_occurrences_above_15')\n",
    "df_above_15_by_year"
   ],
   "id": "82879d36df0c2b24",
   "outputs": [
    {
     "data": {
      "text/plain": [
       "    year  nb_occurrences_above_15\n",
       "0   1950                      146\n",
       "1   1951                      122\n",
       "2   1952                      140\n",
       "3   1953                      138\n",
       "4   1954                      117\n",
       "..   ...                      ...\n",
       "70  2020                      162\n",
       "71  2021                      148\n",
       "72  2022                      178\n",
       "73  2023                      166\n",
       "74  2024                      165\n",
       "\n",
       "[75 rows x 2 columns]"
      ],
      "text/html": [
       "<div>\n",
       "<style scoped>\n",
       "    .dataframe tbody tr th:only-of-type {\n",
       "        vertical-align: middle;\n",
       "    }\n",
       "\n",
       "    .dataframe tbody tr th {\n",
       "        vertical-align: top;\n",
       "    }\n",
       "\n",
       "    .dataframe thead th {\n",
       "        text-align: right;\n",
       "    }\n",
       "</style>\n",
       "<table border=\"1\" class=\"dataframe\">\n",
       "  <thead>\n",
       "    <tr style=\"text-align: right;\">\n",
       "      <th></th>\n",
       "      <th>year</th>\n",
       "      <th>nb_occurrences_above_15</th>\n",
       "    </tr>\n",
       "  </thead>\n",
       "  <tbody>\n",
       "    <tr>\n",
       "      <th>0</th>\n",
       "      <td>1950</td>\n",
       "      <td>146</td>\n",
       "    </tr>\n",
       "    <tr>\n",
       "      <th>1</th>\n",
       "      <td>1951</td>\n",
       "      <td>122</td>\n",
       "    </tr>\n",
       "    <tr>\n",
       "      <th>2</th>\n",
       "      <td>1952</td>\n",
       "      <td>140</td>\n",
       "    </tr>\n",
       "    <tr>\n",
       "      <th>3</th>\n",
       "      <td>1953</td>\n",
       "      <td>138</td>\n",
       "    </tr>\n",
       "    <tr>\n",
       "      <th>4</th>\n",
       "      <td>1954</td>\n",
       "      <td>117</td>\n",
       "    </tr>\n",
       "    <tr>\n",
       "      <th>...</th>\n",
       "      <td>...</td>\n",
       "      <td>...</td>\n",
       "    </tr>\n",
       "    <tr>\n",
       "      <th>70</th>\n",
       "      <td>2020</td>\n",
       "      <td>162</td>\n",
       "    </tr>\n",
       "    <tr>\n",
       "      <th>71</th>\n",
       "      <td>2021</td>\n",
       "      <td>148</td>\n",
       "    </tr>\n",
       "    <tr>\n",
       "      <th>72</th>\n",
       "      <td>2022</td>\n",
       "      <td>178</td>\n",
       "    </tr>\n",
       "    <tr>\n",
       "      <th>73</th>\n",
       "      <td>2023</td>\n",
       "      <td>166</td>\n",
       "    </tr>\n",
       "    <tr>\n",
       "      <th>74</th>\n",
       "      <td>2024</td>\n",
       "      <td>165</td>\n",
       "    </tr>\n",
       "  </tbody>\n",
       "</table>\n",
       "<p>75 rows × 2 columns</p>\n",
       "</div>"
      ]
     },
     "execution_count": 57,
     "metadata": {},
     "output_type": "execute_result"
    }
   ],
   "execution_count": 57
  },
  {
   "metadata": {
    "ExecuteTime": {
     "end_time": "2025-02-05T13:40:57.797149Z",
     "start_time": "2025-02-05T13:40:57.389208Z"
    }
   },
   "cell_type": "code",
   "source": [
    "plt.figure(figsize=(12,5))\n",
    "plt.bar(df_above_15_by_year['year'], df_above_15_by_year['nb_occurrences_above_15'], color='royalblue')\n",
    "plt.xlabel('Année')\n",
    "plt.ylabel(\"Nombre d'occurrences\")\n",
    "plt.title('Nombre de fois où la température est au-dessus de 15º')\n",
    "plt.show()"
   ],
   "id": "a3aeda777540d1ba",
   "outputs": [
    {
     "data": {
      "text/plain": [
       "<Figure size 1200x500 with 1 Axes>"
      ],
      "image/png": "[encoded data removed]"
     },
     "metadata": {},
     "output_type": "display_data"
    }
   ],
   "execution_count": 36
  },
  {
   "metadata": {},
   "cell_type": "markdown",
   "source": "### Number of days above 15º by decade",
   "id": "eff3676121b8d650"
  },
  {
   "metadata": {
    "ExecuteTime": {
     "end_time": "2025-02-05T13:46:10.442749Z",
     "start_time": "2025-02-05T13:46:10.427351Z"
    }
   },
   "cell_type": "code",
   "source": [
    "df_above_15_by_decade = df_above_15_by_year.copy()\n",
    "df_above_15_by_decade['decade'] = (df_above_15_by_decade['year'] // 10) * 10\n",
    "df_above_15_by_decade = df_above_15_by_decade.groupby(df_above_15_by_decade['decade'])['nb_occurrences_above_15'].sum().reset_index()\n",
    "df_above_15_by_decade"
   ],
   "id": "71b29adce939b15c",
   "outputs": [
    {
     "data": {
      "text/plain": [
       "   decade  nb_occurrences_above_15\n",
       "0    1950                     1336\n",
       "1    1960                     1349\n",
       "2    1970                     1251\n",
       "3    1980                     1334\n",
       "4    1990                     1394\n",
       "5    2000                     1488\n",
       "6    2010                     1527\n",
       "7    2020                      819"
      ],
      "text/html": [
       "<div>\n",
       "<style scoped>\n",
       "    .dataframe tbody tr th:only-of-type {\n",
       "        vertical-align: middle;\n",
       "    }\n",
       "\n",
       "    .dataframe tbody tr th {\n",
       "        vertical-align: top;\n",
       "    }\n",
       "\n",
       "    .dataframe thead th {\n",
       "        text-align: right;\n",
       "    }\n",
       "</style>\n",
       "<table border=\"1\" class=\"dataframe\">\n",
       "  <thead>\n",
       "    <tr style=\"text-align: right;\">\n",
       "      <th></th>\n",
       "      <th>decade</th>\n",
       "      <th>nb_occurrences_above_15</th>\n",
       "    </tr>\n",
       "  </thead>\n",
       "  <tbody>\n",
       "    <tr>\n",
       "      <th>0</th>\n",
       "      <td>1950</td>\n",
       "      <td>1336</td>\n",
       "    </tr>\n",
       "    <tr>\n",
       "      <th>1</th>\n",
       "      <td>1960</td>\n",
       "      <td>1349</td>\n",
       "    </tr>\n",
       "    <tr>\n",
       "      <th>2</th>\n",
       "      <td>1970</td>\n",
       "      <td>1251</td>\n",
       "    </tr>\n",
       "    <tr>\n",
       "      <th>3</th>\n",
       "      <td>1980</td>\n",
       "      <td>1334</td>\n",
       "    </tr>\n",
       "    <tr>\n",
       "      <th>4</th>\n",
       "      <td>1990</td>\n",
       "      <td>1394</td>\n",
       "    </tr>\n",
       "    <tr>\n",
       "      <th>5</th>\n",
       "      <td>2000</td>\n",
       "      <td>1488</td>\n",
       "    </tr>\n",
       "    <tr>\n",
       "      <th>6</th>\n",
       "      <td>2010</td>\n",
       "      <td>1527</td>\n",
       "    </tr>\n",
       "    <tr>\n",
       "      <th>7</th>\n",
       "      <td>2020</td>\n",
       "      <td>819</td>\n",
       "    </tr>\n",
       "  </tbody>\n",
       "</table>\n",
       "</div>"
      ]
     },
     "execution_count": 42,
     "metadata": {},
     "output_type": "execute_result"
    }
   ],
   "execution_count": 42
  },
  {
   "metadata": {
    "ExecuteTime": {
     "end_time": "2025-02-05T13:48:34.684910Z",
     "start_time": "2025-02-05T13:48:34.371073Z"
    }
   },
   "cell_type": "code",
   "source": [
    "plt.figure(figsize=(12,5))\n",
    "plt.bar(df_above_15_by_decade['decade'], df_above_15_by_decade['nb_occurrences_above_15'], color='royalblue')\n",
    "plt.xlabel('Décennie')\n",
    "plt.ylabel(\"Nombre d'occurrences\")\n",
    "plt.title('Nombre de fois où la température est au-dessus de 15º')\n",
    "plt.show()"
   ],
   "id": "1a27476e32641ad",
   "outputs": [
    {
     "data": {
      "text/plain": [
       "<Figure size 1200x500 with 1 Axes>"
      ],
      "image/png": "[encoded data removed]"
     },
     "metadata": {},
     "output_type": "display_data"
    }
   ],
   "execution_count": 43
  }
 ],
 "metadata": {
  "kernelspec": {
   "display_name": "Python 3",
   "language": "python",
   "name": "python3"
  },
  "language_info": {
   "codemirror_mode": {
    "name": "ipython",
    "version": 2
   },
   "file_extension": ".py",
   "mimetype": "text/x-python",
   "name": "python",
   "nbconvert_exporter": "python",
   "pygments_lexer": "ipython2",
   "version": "2.7.6"
  }
 },
 "nbformat": 4,
 "nbformat_minor": 5
}
