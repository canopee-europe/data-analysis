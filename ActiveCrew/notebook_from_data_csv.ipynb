{
 "cells": [
  {
   "cell_type": "code",
   "id": "initial_id",
   "metadata": {
    "collapsed": true
   },
   "source": [
    "import pandas as pd\n",
    "import json\n",
    "import random\n",
    "import numpy as np"
   ],
   "outputs": [],
   "execution_count": null
  },
  {
   "metadata": {},
   "cell_type": "markdown",
   "source": "# Filter values",
   "id": "8362b055e062dc4f"
  },
  {
   "metadata": {},
   "cell_type": "code",
   "source": [
    "# Input file\n",
    "data = 'data.csv'\n",
    "\n",
    "# Create lists\n",
    "events = []\n",
    "event_editions = []\n",
    "\n",
    "# Read file\n",
    "with open(data, \"r\", encoding=\"utf-8\") as f:\n",
    "    for line in f:\n",
    "        try:\n",
    "            data = json.loads(line.strip())  # Convertir en dictionnaire\n",
    "            type_value = data.get(\"type\")\n",
    "\n",
    "            if type_value == \"api::event.event\":\n",
    "                events.append(data)\n",
    "            elif type_value == \"api::event-edition.event-edition\":\n",
    "                event_editions.append(data)\n",
    "\n",
    "        except json.JSONDecodeError:\n",
    "            continue\n",
    "\n",
    "\n",
    "# Convert lists to df\n",
    "df_events = pd.DataFrame(events)\n",
    "df_event_editions = pd.DataFrame(event_editions)"
   ],
   "id": "187f2c4381179be4",
   "outputs": [],
   "execution_count": null
  },
  {
   "metadata": {},
   "cell_type": "markdown",
   "source": "# Work on events",
   "id": "1ae27c4fe9bddae7"
  },
  {
   "metadata": {},
   "cell_type": "code",
   "source": [
    "df_events = df_events.drop(\"type\", axis=1)\n",
    "df_events"
   ],
   "id": "b020c6c2bac1d108",
   "outputs": [],
   "execution_count": null
  },
  {
   "metadata": {},
   "cell_type": "code",
   "source": [
    "df_events_filtered = df_events[[\"id\"]].copy()\n",
    "\n",
    "df_events_filtered[\"name\"] = df_events[\"data\"].apply(lambda x: x.get(\"name\") if isinstance(x, dict) else None)\n",
    "df_events_filtered[\"timezone\"] = df_events[\"data\"].apply(lambda x: x.get(\"timezone\") if isinstance(x, dict) else None)\n",
    "\n",
    "df_events_filtered"
   ],
   "id": "7789e6d0ba108517",
   "outputs": [],
   "execution_count": null
  },
  {
   "metadata": {},
   "cell_type": "markdown",
   "source": "# Work on event editions",
   "id": "4ce316eab158fb24"
  },
  {
   "metadata": {},
   "cell_type": "code",
   "source": [
    "df_event_editions = df_event_editions.drop(\"type\", axis=1)\n",
    "df_event_editions"
   ],
   "id": "9a2167f552fe057a",
   "outputs": [],
   "execution_count": null
  },
  {
   "metadata": {},
   "cell_type": "code",
   "source": [
    "df_event_editions_filtered = df_event_editions[[\"id\"]].copy()\n",
    "\n",
    "df_event_editions_filtered[\"name\"] = df_event_editions[\"data\"].apply(lambda x: x.get(\"name\") if isinstance(x, dict) else None)\n",
    "df_event_editions_filtered[\"date_start\"] = df_event_editions[\"data\"].apply(lambda x: x.get(\"date_start\") if isinstance(x, dict) else None)\n",
    "df_event_editions_filtered[\"date_end\"] = df_event_editions[\"data\"].apply(lambda x: x.get(\"date_end\") if isinstance(x, dict) else None)\n",
    "df_event_editions_filtered[\"annee\"] = 2025\n",
    "\n",
    "df_event_editions_filtered = df_event_editions_filtered.drop(\"id\", axis=1)\n",
    "df_event_editions_filtered.replace(\"Marathon du lac d'Annecy 2025\", \"Marathon du lac d'Annecy\", inplace=True)\n",
    "df_event_editions_filtered"
   ],
   "id": "bf22201f1db551a5",
   "outputs": [],
   "execution_count": null
  },
  {
   "metadata": {},
   "cell_type": "code",
   "source": [
    "unique_value = df_event_editions_filtered.drop_duplicates()\n",
    "unique_value.drop(columns=[\"date_start\", \"date_end\"], axis=1, inplace=True)\n",
    "unique_value[\"ville\"] = [\"Annecy\", \"T\"]\n",
    "unique_value"
   ],
   "id": "77ff9e3dccf87eee",
   "outputs": [],
   "execution_count": null
  }
 ],
 "metadata": {
  "kernelspec": {
   "display_name": "Python 3",
   "language": "python",
   "name": "python3"
  },
  "language_info": {
   "codemirror_mode": {
    "name": "ipython",
    "version": 2
   },
   "file_extension": ".py",
   "mimetype": "text/x-python",
   "name": "python",
   "nbconvert_exporter": "python",
   "pygments_lexer": "ipython2",
   "version": "2.7.6"
  }
 },
 "nbformat": 4,
 "nbformat_minor": 5
}
