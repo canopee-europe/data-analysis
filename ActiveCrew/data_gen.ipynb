{
 "cells": [
  {
   "cell_type": "code",
   "id": "e89359fc34f0e860",
   "metadata": {},
   "source": [
    "import random\n",
    "import pandas as pd\n",
    "import numpy as np"
   ],
   "outputs": [],
   "execution_count": null
  },
  {
   "metadata": {
    "collapsed": true
   },
   "cell_type": "code",
   "source": [
    "villes = [\"Grenoble\", \"Montpellier\", \"Lyon\", \"Marseille\", \"Genève\", \"Paris\", \"Nantes\", \"Bordeaux\", \"Annecy\"]\n",
    "\n",
    "annees = list(range(2025, 2031))\n",
    "evenements_par_annee = [5, 7, 8, 9, 10, 11]  # Nombre croissant d'événements\n",
    "\n",
    "\n",
    "nouveaux_evenements = []\n",
    "for annee, nombre in zip(annees, evenements_par_annee):\n",
    "    for _ in range(nombre):\n",
    "        ville = random.choice(villes)\n",
    "        event_name = f\"Marathon de {ville}\"\n",
    "        nouveaux_evenements.append({\"name\": event_name, \"annee\": annee, \"ville\": ville})\n",
    "\n",
    "df_new_events = pd.DataFrame(nouveaux_evenements)\n",
    "df_new_events"
   ],
   "id": "initial_id",
   "outputs": [],
   "execution_count": null
  },
  {
   "metadata": {},
   "cell_type": "code",
   "source": [
    "df_for_looker = df_new_events.copy()\n",
    "\n",
    "df_for_looker[\"Pays\"] = \"France\"\n",
    "df_for_looker"
   ],
   "id": "d702b0adca39ffac",
   "outputs": [],
   "execution_count": null
  },
  {
   "metadata": {},
   "cell_type": "code",
   "source": [
    "df_new_events[\"population\"] = np.random.randint(5000, 30001, size=len(df_new_events))\n",
    "df_new_events"
   ],
   "id": "fbe9e08812b2f946",
   "outputs": [],
   "execution_count": null
  },
  {
   "metadata": {},
   "cell_type": "code",
   "source": "df_for_looker.to_csv(\"events2.csv\", index=False)",
   "id": "b01568f97ac6ed38",
   "outputs": [],
   "execution_count": null
  }
 ],
 "metadata": {
  "kernelspec": {
   "display_name": "Python 3",
   "language": "python",
   "name": "python3"
  },
  "language_info": {
   "codemirror_mode": {
    "name": "ipython",
    "version": 2
   },
   "file_extension": ".py",
   "mimetype": "text/x-python",
   "name": "python",
   "nbconvert_exporter": "python",
   "pygments_lexer": "ipython2",
   "version": "2.7.6"
  }
 },
 "nbformat": 4,
 "nbformat_minor": 5
}
