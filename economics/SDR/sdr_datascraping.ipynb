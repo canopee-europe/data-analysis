{
 "cells": [
  {
   "cell_type": "code",
   "id": "initial_id",
   "metadata": {
    "collapsed": true,
    "ExecuteTime": {
     "end_time": "2025-03-31T16:28:21.246204Z",
     "start_time": "2025-03-31T16:28:21.137076Z"
    }
   },
   "source": [
    "from datetime import timedelta\n",
    "\n",
    "from anyio import current_time\n",
    "from selenium.webdriver.common.by import By\n",
    "from selenium.webdriver.support.select import Select\n",
    "from selenium import webdriver\n",
    "import pandas as pd\n",
    "import time\n",
    "from datetime import datetime"
   ],
   "outputs": [],
   "execution_count": 19
  },
  {
   "metadata": {},
   "cell_type": "markdown",
   "source": "## SET DATES",
   "id": "57dbad542fdfa405"
  },
  {
   "metadata": {
    "ExecuteTime": {
     "end_time": "2025-03-31T16:38:57.403065Z",
     "start_time": "2025-03-31T16:38:57.386603Z"
    }
   },
   "cell_type": "code",
   "source": [
    "def generate_dates(start_date, end_date):\n",
    "    current_date = start_date\n",
    "    while current_date <= end_date:\n",
    "        yield current_date\n",
    "        current_date += timedelta(days=1)\n"
   ],
   "id": "2008f3153c413488",
   "outputs": [],
   "execution_count": 39
  },
  {
   "metadata": {},
   "cell_type": "markdown",
   "source": "## SELECT DATES INTO WEBPAGE",
   "id": "d8a4a9df03cb22d3"
  },
  {
   "metadata": {
    "ExecuteTime": {
     "end_time": "2025-03-31T16:38:58.839959Z",
     "start_time": "2025-03-31T16:38:58.824298Z"
    }
   },
   "cell_type": "code",
   "source": [
    "def select_date(driver, date):\n",
    "    \"\"\"\n",
    "    Sélectionne la date dans les listes déroulantes.\n",
    "    \"\"\"\n",
    "    # Sélectionner l'année\n",
    "    year_select = Select(driver.find_element(By.NAME, \"ddlYear\"))\n",
    "    year_select.select_by_value(str(date.year))\n",
    "\n",
    "    # Sélectionner le mois\n",
    "    month_select = Select(driver.find_element(By.NAME, \"ddlMonth\"))\n",
    "    month_select.select_by_value(str(date.month))\n",
    "\n",
    "    # Sélectionner le jour\n",
    "    day_select = Select(driver.find_element(By.NAME, \"ddlDay\"))\n",
    "    day_select.select_by_value(str(date.day))\n",
    "\n",
    "    print(f\"Date sélectionnée : {date.strftime('%Y-%m-%d')}\")"
   ],
   "id": "d83998c85a74703b",
   "outputs": [],
   "execution_count": 40
  },
  {
   "metadata": {
    "ExecuteTime": {
     "end_time": "2025-03-31T16:39:01.235924Z",
     "start_time": "2025-03-31T16:39:01.230026Z"
    }
   },
   "cell_type": "code",
   "source": [
    "def validate_selection(driver):\n",
    "    submit_button = driver.find_element(By.NAME, \"btnGo\")\n",
    "    submit_button.click()\n",
    "    time.sleep(2)"
   ],
   "id": "c9476475cdff6f94",
   "outputs": [],
   "execution_count": 41
  },
  {
   "metadata": {
    "ExecuteTime": {
     "end_time": "2025-03-31T16:59:13.190286Z",
     "start_time": "2025-03-31T16:59:13.182737Z"
    }
   },
   "cell_type": "code",
   "source": [
    "from prompt_toolkit.contrib.telnet.protocol import EC\n",
    "from selenium.webdriver.support.wait import WebDriverWait\n",
    "\n",
    "\n",
    "def read_table(driver):\n",
    "    \"\"\"\n",
    "    Lit le tableau et récupère les données valides.\n",
    "    \"\"\"\n",
    "    data_list = []\n",
    "\n",
    "    try:\n",
    "\n",
    "        table = driver.find_element(By.CSS_SELECTOR, \"table.tightest\")  # Trouver le tableau\n",
    "        rows = table.find_elements(By.TAG_NAME, \"tr\")  # Trouver toutes les lignes\n",
    "\n",
    "        for row in rows:\n",
    "            cols = row.find_elements(By.TAG_NAME, \"td\")  # Trouver toutes les colonnes\n",
    "            if len(cols) == 4:  # Vérifier que la ligne a bien 4 colonnes\n",
    "                currency = cols[0].text\n",
    "                exchange_rate = cols[1].text\n",
    "                usd_equivalent = cols[2].text\n",
    "                percent_change = cols[3].text\n",
    "                data_list.append((currency, exchange_rate, usd_equivalent, percent_change))\n",
    "\n",
    "    except Exception as e:\n",
    "        print(e)\n",
    "\n",
    "\n",
    "    return data_list"
   ],
   "id": "78b262878643dac7",
   "outputs": [],
   "execution_count": 62
  },
  {
   "metadata": {
    "ExecuteTime": {
     "end_time": "2025-03-31T16:59:32.191271Z",
     "start_time": "2025-03-31T16:59:14.150528Z"
    }
   },
   "cell_type": "code",
   "source": [
    "# Set Selenium driver\n",
    "options = webdriver.ChromeOptions()\n",
    "options.add_argument('--headless')\n",
    "\n",
    "driver = webdriver.Chrome(options=options)\n",
    "driver.get(\"https://www.imf.org/external/np/fin/data/rms_sdrv.aspx\")\n",
    "\n",
    "time.sleep(2)\n",
    "\n",
    "# Initiate start / end dates\n",
    "start_date = datetime(1981, 1, 1)\n",
    "first_date = next(generate_dates(start_date, start_date))\n",
    "\n",
    "select_date(driver, first_date)\n",
    "validate_selection(driver)\n",
    "data = read_table(driver)\n",
    "\n",
    "print(\"Données récupérées :\", data)\n",
    "\n",
    "# Fermer le navigateur à la fin\n",
    "driver.quit()"
   ],
   "id": "1525ffaae5d8cc71",
   "outputs": [
    {
     "name": "stdout",
     "output_type": "stream",
     "text": [
      "Date sélectionnée : 1981-01-01\n",
      "Message: no such element: Unable to locate element: {\"method\":\"css selector\",\"selector\":\"table.tightest\"}\n",
      "  (Session info: chrome=134.0.6998.165); For documentation on this error, please visit: https://www.selenium.dev/documentation/webdriver/troubleshooting/errors#no-such-element-exception\n",
      "Stacktrace:\n",
      "#0 0x5632a161fffa <unknown>\n",
      "#1 0x5632a10de970 <unknown>\n",
      "#2 0x5632a1130385 <unknown>\n",
      "#3 0x5632a11305b1 <unknown>\n",
      "#4 0x5632a117f3c4 <unknown>\n",
      "#5 0x5632a11562bd <unknown>\n",
      "#6 0x5632a117c70c <unknown>\n",
      "#7 0x5632a1156063 <unknown>\n",
      "#8 0x5632a1122328 <unknown>\n",
      "#9 0x5632a1123491 <unknown>\n",
      "#10 0x5632a15e742b <unknown>\n",
      "#11 0x5632a15eb2ec <unknown>\n",
      "#12 0x5632a15cea22 <unknown>\n",
      "#13 0x5632a15ebe64 <unknown>\n",
      "#14 0x5632a15b2bef <unknown>\n",
      "#15 0x5632a160e558 <unknown>\n",
      "#16 0x5632a160e736 <unknown>\n",
      "#17 0x5632a161ee76 <unknown>\n",
      "#18 0x7f8ffb39239d <unknown>\n",
      "#19 0x7f8ffb41749c <unknown>\n",
      "\n",
      "Données récupérées : []\n"
     ]
    }
   ],
   "execution_count": 63
  }
 ],
 "metadata": {
  "kernelspec": {
   "display_name": "Python 3",
   "language": "python",
   "name": "python3"
  },
  "language_info": {
   "codemirror_mode": {
    "name": "ipython",
    "version": 2
   },
   "file_extension": ".py",
   "mimetype": "text/x-python",
   "name": "python",
   "nbconvert_exporter": "python",
   "pygments_lexer": "ipython2",
   "version": "2.7.6"
  }
 },
 "nbformat": 4,
 "nbformat_minor": 5
}
